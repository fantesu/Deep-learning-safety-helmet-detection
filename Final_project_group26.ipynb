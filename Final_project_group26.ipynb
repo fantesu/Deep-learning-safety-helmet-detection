{
  "nbformat": 4,
  "nbformat_minor": 0,
  "metadata": {
    "colab": {
      "name": "Final_deep_learning.ipynb",
      "provenance": [],
      "collapsed_sections": [
        "Uf7gKEqIrAm0",
        "5MJJb-Li1Zl6",
        "JyhMWrY91gDf",
        "HyAMsCm51kxb"
      ]
    },
    "kernelspec": {
      "name": "python3",
      "display_name": "Python 3"
    },
    "language_info": {
      "name": "python"
    }
  },
  "cells": [
    {
      "cell_type": "markdown",
      "source": [
        "##The first part:\n",
        "###In this part, we will do feature selection and engineering."
      ],
      "metadata": {
        "id": "jqSJyMUO9-Sx"
      }
    },
    {
      "cell_type": "code",
      "execution_count": 1,
      "metadata": {
        "colab": {
          "base_uri": "https://localhost:8080/"
        },
        "id": "oETHK9dh8ibu",
        "outputId": "e5cb48bc-5b88-4000-ef44-abb3f4a1ab29"
      },
      "outputs": [
        {
          "output_type": "stream",
          "name": "stdout",
          "text": [
            "Mounted at /content/drive/\n"
          ]
        }
      ],
      "source": [
        "from google.colab import drive\n",
        "drive.mount('/content/drive/')"
      ]
    },
    {
      "cell_type": "code",
      "source": [
        "#unzip the zip file of dataset\n",
        "!unzip -q \"/content/drive/MyDrive/Helmet Detection_datasets.zip\" -d /content/"
      ],
      "metadata": {
        "id": "vptOYQ3a95L8"
      },
      "execution_count": 2,
      "outputs": []
    },
    {
      "cell_type": "code",
      "source": [
        "#put image model\n",
        "from PIL import Image\n",
        "Image.open(\"/content/images/BikesHelmets0.png\").mode"
      ],
      "metadata": {
        "id": "yIRpHsWz97jf",
        "colab": {
          "base_uri": "https://localhost:8080/",
          "height": 35
        },
        "outputId": "22fe612c-c2cb-4d67-bbcc-063646a82992"
      },
      "execution_count": 3,
      "outputs": [
        {
          "output_type": "execute_result",
          "data": {
            "text/plain": [
              "'RGBA'"
            ],
            "application/vnd.google.colaboratory.intrinsic+json": {
              "type": "string"
            }
          },
          "metadata": {},
          "execution_count": 3
        }
      ]
    },
    {
      "cell_type": "code",
      "source": [
        "#import packages for data processing (extraction)\n",
        "import numpy as np\n",
        "import pandas as pd\n",
        "import matplotlib.pyplot as plt\n",
        "import xml.etree.ElementTree as ET\n",
        "import os\n",
        "from PIL import Image"
      ],
      "metadata": {
        "id": "yY-CUElE-bIO"
      },
      "execution_count": 4,
      "outputs": []
    },
    {
      "cell_type": "code",
      "source": [
        "# image path and xml path\n",
        "XML_PATH = \"/content/annotations\"\n",
        "IMG_PATH = \"/content/images\"\n",
        "XML_FILES = [os.path.join(XML_PATH, f) for f in os.listdir(XML_PATH)]"
      ],
      "metadata": {
        "id": "RC4cGkZK-otL"
      },
      "execution_count": 5,
      "outputs": []
    },
    {
      "cell_type": "code",
      "source": [
        "class XmlParser(object):\n",
        "    def __init__(self, xml_file):\n",
        "        # path to the xml file\n",
        "        self.xml_file = xml_file\n",
        "        self._root = ET.parse(self.xml_file).getroot()\n",
        "        self._objects = self._root.findall('object')\n",
        "        # path to the image file as described in the xml file\n",
        "        self.img_path = os.path.join(IMG_PATH, self._root.find('filename').text)\n",
        "        # names of the classes contained in the xml file\n",
        "        self.names = self._get_names()\n",
        "        # coordinates of the bounding boxes\n",
        "        self.boxes = self._get_bndbox()\n",
        "    \n",
        "    def parse_xml(self):\n",
        "        tree = ET.parse(self.xml_file)\n",
        "        return tree.getroot()\n",
        "        \n",
        "    \n",
        "    def _get_names(self):\n",
        "        names = []\n",
        "        for obj in self._objects:\n",
        "            name = obj.find('name')\n",
        "            names.append(name.text)\n",
        "        return np.array(names)\n",
        "    \n",
        "    def _get_bndbox(self):\n",
        "        boxes = []\n",
        "        for obj in self._objects:\n",
        "            coordinates = [] # [xmin, ymin, xmax, ymax]\n",
        "            bndbox = obj.find('bndbox')\n",
        "            coordinates.append(np.int32(bndbox.find('xmin').text))\n",
        "            coordinates.append(np.int32(bndbox.find('ymin').text))\n",
        "            coordinates.append(np.int32(bndbox.find('xmax').text))\n",
        "            coordinates.append(np.int32(bndbox.find('ymax').text))\n",
        "            boxes.append(coordinates)\n",
        "        return np.array(boxes)"
      ],
      "metadata": {
        "id": "hQeLPN4v-7mY"
      },
      "execution_count": 6,
      "outputs": []
    },
    {
      "cell_type": "code",
      "source": [
        "#function for converting xml files to dataframes\n",
        "def xml_files_to_df(xml_files):\n",
        "    names = []\n",
        "    boxes = []\n",
        "    xml_path = []\n",
        "    img_path = []\n",
        "    for file in xml_files:\n",
        "        xml = XmlParser(file)\n",
        "        names.extend(xml.names)\n",
        "        boxes.extend(xml.boxes)\n",
        "        # make sure the lenght of the files path is the same as that of the names\n",
        "        xml_path.extend([xml.xml_file]*len(xml.names))\n",
        "        img_path.extend([xml.img_path]*len(xml.names))\n",
        "    return pd.DataFrame({'xml_path': xml_path,\n",
        "                         'img_path': img_path,\n",
        "                         'names': names,\n",
        "                         'boxes': boxes})  "
      ],
      "metadata": {
        "id": "Mom7eecH_QLU"
      },
      "execution_count": 7,
      "outputs": []
    },
    {
      "cell_type": "code",
      "source": [
        "df = xml_files_to_df(XML_FILES)\n",
        "df.head(5)"
      ],
      "metadata": {
        "id": "8y1XXpOZ_V7_",
        "colab": {
          "base_uri": "https://localhost:8080/",
          "height": 206
        },
        "outputId": "4238a9b7-9ca1-437c-a77a-c85633152b36"
      },
      "execution_count": 8,
      "outputs": [
        {
          "output_type": "execute_result",
          "data": {
            "text/plain": [
              "                                   xml_path  \\\n",
              "0  /content/annotations/BikesHelmets629.xml   \n",
              "1  /content/annotations/BikesHelmets316.xml   \n",
              "2  /content/annotations/BikesHelmets198.xml   \n",
              "3  /content/annotations/BikesHelmets684.xml   \n",
              "4  /content/annotations/BikesHelmets404.xml   \n",
              "\n",
              "                              img_path           names                boxes  \n",
              "0  /content/images/BikesHelmets629.png     With Helmet   [181, 21, 230, 74]  \n",
              "1  /content/images/BikesHelmets316.png     With Helmet  [121, 86, 175, 149]  \n",
              "2  /content/images/BikesHelmets198.png  Without Helmet   [146, 22, 204, 83]  \n",
              "3  /content/images/BikesHelmets684.png  Without Helmet    [87, 10, 142, 69]  \n",
              "4  /content/images/BikesHelmets404.png  Without Helmet   [184, 10, 215, 42]  "
            ],
            "text/html": [
              "\n",
              "  <div id=\"df-32df8269-efda-4a17-9226-5ea88006f90e\">\n",
              "    <div class=\"colab-df-container\">\n",
              "      <div>\n",
              "<style scoped>\n",
              "    .dataframe tbody tr th:only-of-type {\n",
              "        vertical-align: middle;\n",
              "    }\n",
              "\n",
              "    .dataframe tbody tr th {\n",
              "        vertical-align: top;\n",
              "    }\n",
              "\n",
              "    .dataframe thead th {\n",
              "        text-align: right;\n",
              "    }\n",
              "</style>\n",
              "<table border=\"1\" class=\"dataframe\">\n",
              "  <thead>\n",
              "    <tr style=\"text-align: right;\">\n",
              "      <th></th>\n",
              "      <th>xml_path</th>\n",
              "      <th>img_path</th>\n",
              "      <th>names</th>\n",
              "      <th>boxes</th>\n",
              "    </tr>\n",
              "  </thead>\n",
              "  <tbody>\n",
              "    <tr>\n",
              "      <th>0</th>\n",
              "      <td>/content/annotations/BikesHelmets629.xml</td>\n",
              "      <td>/content/images/BikesHelmets629.png</td>\n",
              "      <td>With Helmet</td>\n",
              "      <td>[181, 21, 230, 74]</td>\n",
              "    </tr>\n",
              "    <tr>\n",
              "      <th>1</th>\n",
              "      <td>/content/annotations/BikesHelmets316.xml</td>\n",
              "      <td>/content/images/BikesHelmets316.png</td>\n",
              "      <td>With Helmet</td>\n",
              "      <td>[121, 86, 175, 149]</td>\n",
              "    </tr>\n",
              "    <tr>\n",
              "      <th>2</th>\n",
              "      <td>/content/annotations/BikesHelmets198.xml</td>\n",
              "      <td>/content/images/BikesHelmets198.png</td>\n",
              "      <td>Without Helmet</td>\n",
              "      <td>[146, 22, 204, 83]</td>\n",
              "    </tr>\n",
              "    <tr>\n",
              "      <th>3</th>\n",
              "      <td>/content/annotations/BikesHelmets684.xml</td>\n",
              "      <td>/content/images/BikesHelmets684.png</td>\n",
              "      <td>Without Helmet</td>\n",
              "      <td>[87, 10, 142, 69]</td>\n",
              "    </tr>\n",
              "    <tr>\n",
              "      <th>4</th>\n",
              "      <td>/content/annotations/BikesHelmets404.xml</td>\n",
              "      <td>/content/images/BikesHelmets404.png</td>\n",
              "      <td>Without Helmet</td>\n",
              "      <td>[184, 10, 215, 42]</td>\n",
              "    </tr>\n",
              "  </tbody>\n",
              "</table>\n",
              "</div>\n",
              "      <button class=\"colab-df-convert\" onclick=\"convertToInteractive('df-32df8269-efda-4a17-9226-5ea88006f90e')\"\n",
              "              title=\"Convert this dataframe to an interactive table.\"\n",
              "              style=\"display:none;\">\n",
              "        \n",
              "  <svg xmlns=\"http://www.w3.org/2000/svg\" height=\"24px\"viewBox=\"0 0 24 24\"\n",
              "       width=\"24px\">\n",
              "    <path d=\"M0 0h24v24H0V0z\" fill=\"none\"/>\n",
              "    <path d=\"M18.56 5.44l.94 2.06.94-2.06 2.06-.94-2.06-.94-.94-2.06-.94 2.06-2.06.94zm-11 1L8.5 8.5l.94-2.06 2.06-.94-2.06-.94L8.5 2.5l-.94 2.06-2.06.94zm10 10l.94 2.06.94-2.06 2.06-.94-2.06-.94-.94-2.06-.94 2.06-2.06.94z\"/><path d=\"M17.41 7.96l-1.37-1.37c-.4-.4-.92-.59-1.43-.59-.52 0-1.04.2-1.43.59L10.3 9.45l-7.72 7.72c-.78.78-.78 2.05 0 2.83L4 21.41c.39.39.9.59 1.41.59.51 0 1.02-.2 1.41-.59l7.78-7.78 2.81-2.81c.8-.78.8-2.07 0-2.86zM5.41 20L4 18.59l7.72-7.72 1.47 1.35L5.41 20z\"/>\n",
              "  </svg>\n",
              "      </button>\n",
              "      \n",
              "  <style>\n",
              "    .colab-df-container {\n",
              "      display:flex;\n",
              "      flex-wrap:wrap;\n",
              "      gap: 12px;\n",
              "    }\n",
              "\n",
              "    .colab-df-convert {\n",
              "      background-color: #E8F0FE;\n",
              "      border: none;\n",
              "      border-radius: 50%;\n",
              "      cursor: pointer;\n",
              "      display: none;\n",
              "      fill: #1967D2;\n",
              "      height: 32px;\n",
              "      padding: 0 0 0 0;\n",
              "      width: 32px;\n",
              "    }\n",
              "\n",
              "    .colab-df-convert:hover {\n",
              "      background-color: #E2EBFA;\n",
              "      box-shadow: 0px 1px 2px rgba(60, 64, 67, 0.3), 0px 1px 3px 1px rgba(60, 64, 67, 0.15);\n",
              "      fill: #174EA6;\n",
              "    }\n",
              "\n",
              "    [theme=dark] .colab-df-convert {\n",
              "      background-color: #3B4455;\n",
              "      fill: #D2E3FC;\n",
              "    }\n",
              "\n",
              "    [theme=dark] .colab-df-convert:hover {\n",
              "      background-color: #434B5C;\n",
              "      box-shadow: 0px 1px 3px 1px rgba(0, 0, 0, 0.15);\n",
              "      filter: drop-shadow(0px 1px 2px rgba(0, 0, 0, 0.3));\n",
              "      fill: #FFFFFF;\n",
              "    }\n",
              "  </style>\n",
              "\n",
              "      <script>\n",
              "        const buttonEl =\n",
              "          document.querySelector('#df-32df8269-efda-4a17-9226-5ea88006f90e button.colab-df-convert');\n",
              "        buttonEl.style.display =\n",
              "          google.colab.kernel.accessAllowed ? 'block' : 'none';\n",
              "\n",
              "        async function convertToInteractive(key) {\n",
              "          const element = document.querySelector('#df-32df8269-efda-4a17-9226-5ea88006f90e');\n",
              "          const dataTable =\n",
              "            await google.colab.kernel.invokeFunction('convertToInteractive',\n",
              "                                                     [key], {});\n",
              "          if (!dataTable) return;\n",
              "\n",
              "          const docLinkHtml = 'Like what you see? Visit the ' +\n",
              "            '<a target=\"_blank\" href=https://colab.research.google.com/notebooks/data_table.ipynb>data table notebook</a>'\n",
              "            + ' to learn more about interactive tables.';\n",
              "          element.innerHTML = '';\n",
              "          dataTable['output_type'] = 'display_data';\n",
              "          await google.colab.output.renderOutput(dataTable, element);\n",
              "          const docLink = document.createElement('div');\n",
              "          docLink.innerHTML = docLinkHtml;\n",
              "          element.appendChild(docLink);\n",
              "        }\n",
              "      </script>\n",
              "    </div>\n",
              "  </div>\n",
              "  "
            ]
          },
          "metadata": {},
          "execution_count": 8
        }
      ]
    },
    {
      "cell_type": "code",
      "source": [
        "#visualize the percentage of each category\n",
        "df['names'].value_counts()/df['names'].count() * 100"
      ],
      "metadata": {
        "id": "NtNKhtkc_cKy",
        "colab": {
          "base_uri": "https://localhost:8080/"
        },
        "outputId": "193d2f18-a602-495f-c211-6186d98ebc35"
      },
      "execution_count": 9,
      "outputs": [
        {
          "output_type": "execute_result",
          "data": {
            "text/plain": [
              "With Helmet       66.299104\n",
              "Without Helmet    33.700896\n",
              "Name: names, dtype: float64"
            ]
          },
          "metadata": {},
          "execution_count": 9
        }
      ]
    },
    {
      "cell_type": "code",
      "source": [
        "df['names'].value_counts()"
      ],
      "metadata": {
        "colab": {
          "base_uri": "https://localhost:8080/"
        },
        "id": "f4Non_0DH4BY",
        "outputId": "85e96bee-616d-4194-e4b7-c674a33f929a"
      },
      "execution_count": 10,
      "outputs": [
        {
          "output_type": "execute_result",
          "data": {
            "text/plain": [
              "With Helmet       962\n",
              "Without Helmet    489\n",
              "Name: names, dtype: int64"
            ]
          },
          "metadata": {},
          "execution_count": 10
        }
      ]
    },
    {
      "cell_type": "code",
      "source": [
        "#visualize the Number of each category\n",
        "import seaborn as sns\n",
        "sns.countplot(x=\"names\", data=df, palette=\"bwr\").set(title='Number of each category ')\n",
        "plt.show()"
      ],
      "metadata": {
        "id": "Nv4ffy7d_fom",
        "colab": {
          "base_uri": "https://localhost:8080/",
          "height": 295
        },
        "outputId": "3d6704ef-1af1-4f0c-f9c2-aa2940d4497a"
      },
      "execution_count": 11,
      "outputs": [
        {
          "output_type": "display_data",
          "data": {
            "text/plain": [
              "<Figure size 432x288 with 1 Axes>"
            ],
            "image/png": "[encoded data removed]"
          },
          "metadata": {
            "needs_background": "light"
          }
        }
      ]
    },
    {
      "cell_type": "code",
      "source": [
        "#downloading the prepared dataframe for future training\n",
        "#df.to_csv('final_dataframe.csv')"
      ],
      "metadata": {
        "id": "btt-xo7TA_Vb"
      },
      "execution_count": null,
      "outputs": []
    },
    {
      "cell_type": "markdown",
      "source": [
        "##The second part:\n",
        "###we try to augment our images and randomly split our images into training, valiadation and testing set."
      ],
      "metadata": {
        "id": "hUnPoU7UCv76"
      }
    },
    {
      "cell_type": "code",
      "source": [
        "#import ImageDataGenerator to augment our dataset.\n",
        "#resacle 1./255\n",
        "#randomly sheer transforamtion\n",
        "#randomly zooming inside pictures\n",
        "#randomly flipping half of the images horizontally  \n",
        "\n",
        "from keras.preprocessing.image import ImageDataGenerator, array_to_img, img_to_array, load_img\n",
        "\n",
        "train_datagen = ImageDataGenerator(rescale=1./255,\n",
        "                                   shear_range=0.2,\n",
        "                                   zoom_range=0.2,\n",
        "                                   horizontal_flip=True)\n",
        "\n",
        "\n",
        "val_datagen = ImageDataGenerator(rescale=1./255,\n",
        "                                   shear_range=0.2,\n",
        "                                   zoom_range=0.2,\n",
        "                                   horizontal_flip=True)\n",
        "\n",
        "#here I don't augment test data here\n",
        "test_datagen = ImageDataGenerator(rescale=1./255)\n"
      ],
      "metadata": {
        "id": "BRr7zy8YDSRq"
      },
      "execution_count": 27,
      "outputs": []
    },
    {
      "cell_type": "code",
      "source": [
        "#see the sample result of augmentation\n",
        "img = load_img('/content/images/BikesHelmets0.png')  \n",
        "x = img_to_array(img) \n",
        "x = x.reshape((1,) + x.shape)  \n",
        "    \n",
        "#generates batches of randomly transformed images\n",
        "#saves the results to the `preview/` directory\n",
        "\n",
        "i = 0\n",
        "for batch in train_datagen.flow(x, batch_size=1,\n",
        "                                save_to_dir='preview', save_prefix='helmet', save_format='jpeg'):\n",
        "  i += 1\n",
        "  if i > 20:\n",
        "    break "
      ],
      "metadata": {
        "id": "IOhfaXoFDq0k"
      },
      "execution_count": 13,
      "outputs": []
    },
    {
      "cell_type": "code",
      "source": [
        "#split data into training, validation and testing (0.9/0.09/0.01)\n",
        "from sklearn.model_selection import train_test_split\n",
        "train_df, test_df = train_test_split(df,train_size=0.9)\n",
        "train_df, validation_df = train_test_split(train_df,train_size=0.9)\n",
        "print(\"Training shape :\\t\",train_df.shape)\n",
        "print(\"Validation shape :\\t\",validation_df.shape)\n",
        "print(\"Testing X shape :\\t\",test_df.shape)"
      ],
      "metadata": {
        "id": "h6D5GOLmEeEU",
        "colab": {
          "base_uri": "https://localhost:8080/"
        },
        "outputId": "f19a542a-8aec-4f7d-e8bb-ea164234d5d5"
      },
      "execution_count": 28,
      "outputs": [
        {
          "output_type": "stream",
          "name": "stdout",
          "text": [
            "Training shape :\t (1174, 4)\n",
            "Validation shape :\t (131, 4)\n",
            "Testing X shape :\t (146, 4)\n"
          ]
        }
      ]
    },
    {
      "cell_type": "code",
      "source": [
        "train_df.head()"
      ],
      "metadata": {
        "id": "zmLRQqhQEtfD",
        "colab": {
          "base_uri": "https://localhost:8080/",
          "height": 206
        },
        "outputId": "7e0d1b14-b5fe-4cc5-b6f0-21ae94a9a320"
      },
      "execution_count": 29,
      "outputs": [
        {
          "output_type": "execute_result",
          "data": {
            "text/plain": [
              "                                      xml_path  \\\n",
              "1172  /content/annotations/BikesHelmets323.xml   \n",
              "997   /content/annotations/BikesHelmets408.xml   \n",
              "661   /content/annotations/BikesHelmets530.xml   \n",
              "932   /content/annotations/BikesHelmets449.xml   \n",
              "1123  /content/annotations/BikesHelmets489.xml   \n",
              "\n",
              "                                 img_path           names  \\\n",
              "1172  /content/images/BikesHelmets323.png     With Helmet   \n",
              "997   /content/images/BikesHelmets408.png  Without Helmet   \n",
              "661   /content/images/BikesHelmets530.png     With Helmet   \n",
              "932   /content/images/BikesHelmets449.png  Without Helmet   \n",
              "1123  /content/images/BikesHelmets489.png     With Helmet   \n",
              "\n",
              "                     boxes  \n",
              "1172   [181, 72, 242, 145]  \n",
              "997     [171, 49, 188, 72]  \n",
              "661     [58, 31, 116, 107]  \n",
              "932     [313, 64, 336, 87]  \n",
              "1123  [198, 107, 249, 166]  "
            ],
            "text/html": [
              "\n",
              "  <div id=\"df-3d5e602b-3ab5-4960-becc-c19e25e0e45f\">\n",
              "    <div class=\"colab-df-container\">\n",
              "      <div>\n",
              "<style scoped>\n",
              "    .dataframe tbody tr th:only-of-type {\n",
              "        vertical-align: middle;\n",
              "    }\n",
              "\n",
              "    .dataframe tbody tr th {\n",
              "        vertical-align: top;\n",
              "    }\n",
              "\n",
              "    .dataframe thead th {\n",
              "        text-align: right;\n",
              "    }\n",
              "</style>\n",
              "<table border=\"1\" class=\"dataframe\">\n",
              "  <thead>\n",
              "    <tr style=\"text-align: right;\">\n",
              "      <th></th>\n",
              "      <th>xml_path</th>\n",
              "      <th>img_path</th>\n",
              "      <th>names</th>\n",
              "      <th>boxes</th>\n",
              "    </tr>\n",
              "  </thead>\n",
              "  <tbody>\n",
              "    <tr>\n",
              "      <th>1172</th>\n",
              "      <td>/content/annotations/BikesHelmets323.xml</td>\n",
              "      <td>/content/images/BikesHelmets323.png</td>\n",
              "      <td>With Helmet</td>\n",
              "      <td>[181, 72, 242, 145]</td>\n",
              "    </tr>\n",
              "    <tr>\n",
              "      <th>997</th>\n",
              "      <td>/content/annotations/BikesHelmets408.xml</td>\n",
              "      <td>/content/images/BikesHelmets408.png</td>\n",
              "      <td>Without Helmet</td>\n",
              "      <td>[171, 49, 188, 72]</td>\n",
              "    </tr>\n",
              "    <tr>\n",
              "      <th>661</th>\n",
              "      <td>/content/annotations/BikesHelmets530.xml</td>\n",
              "      <td>/content/images/BikesHelmets530.png</td>\n",
              "      <td>With Helmet</td>\n",
              "      <td>[58, 31, 116, 107]</td>\n",
              "    </tr>\n",
              "    <tr>\n",
              "      <th>932</th>\n",
              "      <td>/content/annotations/BikesHelmets449.xml</td>\n",
              "      <td>/content/images/BikesHelmets449.png</td>\n",
              "      <td>Without Helmet</td>\n",
              "      <td>[313, 64, 336, 87]</td>\n",
              "    </tr>\n",
              "    <tr>\n",
              "      <th>1123</th>\n",
              "      <td>/content/annotations/BikesHelmets489.xml</td>\n",
              "      <td>/content/images/BikesHelmets489.png</td>\n",
              "      <td>With Helmet</td>\n",
              "      <td>[198, 107, 249, 166]</td>\n",
              "    </tr>\n",
              "  </tbody>\n",
              "</table>\n",
              "</div>\n",
              "      <button class=\"colab-df-convert\" onclick=\"convertToInteractive('df-3d5e602b-3ab5-4960-becc-c19e25e0e45f')\"\n",
              "              title=\"Convert this dataframe to an interactive table.\"\n",
              "              style=\"display:none;\">\n",
              "        \n",
              "  <svg xmlns=\"http://www.w3.org/2000/svg\" height=\"24px\"viewBox=\"0 0 24 24\"\n",
              "       width=\"24px\">\n",
              "    <path d=\"M0 0h24v24H0V0z\" fill=\"none\"/>\n",
              "    <path d=\"M18.56 5.44l.94 2.06.94-2.06 2.06-.94-2.06-.94-.94-2.06-.94 2.06-2.06.94zm-11 1L8.5 8.5l.94-2.06 2.06-.94-2.06-.94L8.5 2.5l-.94 2.06-2.06.94zm10 10l.94 2.06.94-2.06 2.06-.94-2.06-.94-.94-2.06-.94 2.06-2.06.94z\"/><path d=\"M17.41 7.96l-1.37-1.37c-.4-.4-.92-.59-1.43-.59-.52 0-1.04.2-1.43.59L10.3 9.45l-7.72 7.72c-.78.78-.78 2.05 0 2.83L4 21.41c.39.39.9.59 1.41.59.51 0 1.02-.2 1.41-.59l7.78-7.78 2.81-2.81c.8-.78.8-2.07 0-2.86zM5.41 20L4 18.59l7.72-7.72 1.47 1.35L5.41 20z\"/>\n",
              "  </svg>\n",
              "      </button>\n",
              "      \n",
              "  <style>\n",
              "    .colab-df-container {\n",
              "      display:flex;\n",
              "      flex-wrap:wrap;\n",
              "      gap: 12px;\n",
              "    }\n",
              "\n",
              "    .colab-df-convert {\n",
              "      background-color: #E8F0FE;\n",
              "      border: none;\n",
              "      border-radius: 50%;\n",
              "      cursor: pointer;\n",
              "      display: none;\n",
              "      fill: #1967D2;\n",
              "      height: 32px;\n",
              "      padding: 0 0 0 0;\n",
              "      width: 32px;\n",
              "    }\n",
              "\n",
              "    .colab-df-convert:hover {\n",
              "      background-color: #E2EBFA;\n",
              "      box-shadow: 0px 1px 2px rgba(60, 64, 67, 0.3), 0px 1px 3px 1px rgba(60, 64, 67, 0.15);\n",
              "      fill: #174EA6;\n",
              "    }\n",
              "\n",
              "    [theme=dark] .colab-df-convert {\n",
              "      background-color: #3B4455;\n",
              "      fill: #D2E3FC;\n",
              "    }\n",
              "\n",
              "    [theme=dark] .colab-df-convert:hover {\n",
              "      background-color: #434B5C;\n",
              "      box-shadow: 0px 1px 3px 1px rgba(0, 0, 0, 0.15);\n",
              "      filter: drop-shadow(0px 1px 2px rgba(0, 0, 0, 0.3));\n",
              "      fill: #FFFFFF;\n",
              "    }\n",
              "  </style>\n",
              "\n",
              "      <script>\n",
              "        const buttonEl =\n",
              "          document.querySelector('#df-3d5e602b-3ab5-4960-becc-c19e25e0e45f button.colab-df-convert');\n",
              "        buttonEl.style.display =\n",
              "          google.colab.kernel.accessAllowed ? 'block' : 'none';\n",
              "\n",
              "        async function convertToInteractive(key) {\n",
              "          const element = document.querySelector('#df-3d5e602b-3ab5-4960-becc-c19e25e0e45f');\n",
              "          const dataTable =\n",
              "            await google.colab.kernel.invokeFunction('convertToInteractive',\n",
              "                                                     [key], {});\n",
              "          if (!dataTable) return;\n",
              "\n",
              "          const docLinkHtml = 'Like what you see? Visit the ' +\n",
              "            '<a target=\"_blank\" href=https://colab.research.google.com/notebooks/data_table.ipynb>data table notebook</a>'\n",
              "            + ' to learn more about interactive tables.';\n",
              "          element.innerHTML = '';\n",
              "          dataTable['output_type'] = 'display_data';\n",
              "          await google.colab.output.renderOutput(dataTable, element);\n",
              "          const docLink = document.createElement('div');\n",
              "          docLink.innerHTML = docLinkHtml;\n",
              "          element.appendChild(docLink);\n",
              "        }\n",
              "      </script>\n",
              "    </div>\n",
              "  </div>\n",
              "  "
            ]
          },
          "metadata": {},
          "execution_count": 29
        }
      ]
    },
    {
      "cell_type": "code",
      "source": [
        "#Import generator to read images from dataframe\n",
        "#and generate batches of augmented image data \n",
        "\n",
        "from tensorflow.keras.preprocessing.image import ImageDataGenerator\n",
        "import numpy as np\n",
        "\n",
        "target_size = (128, 128) #set targe size\n",
        "\n",
        "train_gen = train_datagen.flow_from_dataframe(train_df,\n",
        "                                              directory=\"/content/annotations\",\n",
        "                                              target_size=target_size,\n",
        "                                              class_mode=\"binary\",\n",
        "                                              x_col=\"img_path\",\n",
        "                                              y_col=\"names\",\n",
        "                                              shuffle=True) #shuffle the original training data\n",
        "\n",
        "\n",
        "val_gen = val_datagen.flow_from_dataframe(validation_df,\n",
        "                                          directory=\"/content/annotations\",\n",
        "                                          target_size=target_size,\n",
        "                                          class_mode=\"binary\",\n",
        "                                          x_col=\"img_path\",\n",
        "                                          y_col=\"names\")\n",
        "\n",
        "\n",
        "test_gen = test_datagen.flow_from_dataframe(test_df,\n",
        "                                            directory=\"/content/annotations\",\n",
        "                                            target_size=target_size,\n",
        "                                            class_mode=\"binary\",\n",
        "                                            x_col=\"img_path\",\n",
        "                                            y_col=\"names\")"
      ],
      "metadata": {
        "colab": {
          "base_uri": "https://localhost:8080/"
        },
        "id": "AT_uFwDDEcvl",
        "outputId": "01f5f36c-b79d-492a-bd02-f0222ccfb3cb"
      },
      "execution_count": 30,
      "outputs": [
        {
          "output_type": "stream",
          "name": "stdout",
          "text": [
            "Found 1174 validated image filenames belonging to 2 classes.\n",
            "Found 131 validated image filenames belonging to 2 classes.\n",
            "Found 146 validated image filenames belonging to 2 classes.\n"
          ]
        }
      ]
    },
    {
      "cell_type": "markdown",
      "source": [
        "##The third part:\n",
        "###In this part, we will use several models to training our model, including CNN models and several transfer learning models. We gonna try several pre-trained model from imagenet competition. Since we do binary classification problems, not all models works well."
      ],
      "metadata": {
        "id": "e1K392-4BboV"
      }
    },
    {
      "cell_type": "markdown",
      "source": [
        "####Basic CNN model\n"
      ],
      "metadata": {
        "id": "Uf7gKEqIrAm0"
      }
    },
    {
      "cell_type": "code",
      "execution_count": null,
      "metadata": {
        "colab": {
          "base_uri": "https://localhost:8080/"
        },
        "id": "sUuT92zMpBxT",
        "outputId": "cdfd21f1-bfb0-416b-c17b-f03b990038f9"
      },
      "outputs": [
        {
          "output_type": "stream",
          "name": "stdout",
          "text": [
            "Model: \"CNN_model_basic\"\n",
            "_________________________________________________________________\n",
            " Layer (type)                Output Shape              Param #   \n",
            "=================================================================\n",
            " conv2d_5 (Conv2D)           (None, 126, 126, 32)      896       \n",
            "                                                                 \n",
            " max_pooling2d_5 (MaxPooling  (None, 63, 63, 32)       0         \n",
            " 2D)                                                             \n",
            "                                                                 \n",
            " conv2d_6 (Conv2D)           (None, 61, 61, 32)        9248      \n",
            "                                                                 \n",
            " max_pooling2d_6 (MaxPooling  (None, 30, 30, 32)       0         \n",
            " 2D)                                                             \n",
            "                                                                 \n",
            " flatten_5 (Flatten)         (None, 28800)             0         \n",
            "                                                                 \n",
            " dense_11 (Dense)            (None, 1)                 28801     \n",
            "                                                                 \n",
            "=================================================================\n",
            "Total params: 38,945\n",
            "Trainable params: 38,945\n",
            "Non-trainable params: 0\n",
            "_________________________________________________________________\n"
          ]
        }
      ],
      "source": [
        "#We first defined a simple CNN model with two convultion layer and two pooling layer\n",
        "from tensorflow.keras.models import Sequential\n",
        "from tensorflow.keras.layers import Flatten,Dense\n",
        "from tensorflow.keras.layers import Conv2D, Dense, Dropout, MaxPooling2D, Flatten\n",
        "from tensorflow.keras.callbacks import EarlyStopping, Callback \n",
        "from tensorflow.keras.optimizers import Adam\n",
        "\n",
        "# Pile up layers. \n",
        "model=Sequential()\n",
        "model.add(Conv2D(32, 3,input_shape=(128,128,3),activation=\"relu\"))\n",
        "model.add(MaxPooling2D(2))\n",
        "model.add(Conv2D(32, 3,activation=\"relu\"))\n",
        "model.add(MaxPooling2D(2))\n",
        "\n",
        "model.add(Flatten())                                                     \n",
        "model.add(Dense(1,activation=\"sigmoid\"))\n",
        "\n",
        "\n",
        "# Compile model\n",
        "opt = Adam(learning_rate=0.001, decay=1e-6)\n",
        "model.compile(loss=\"binary_crossentropy\",\n",
        "              optimizer=opt,\n",
        "              metrics=['acc'])\n",
        "\n",
        "model._name = \"CNN_model_basic\"\n",
        "#model summary\n",
        "model.summary()\n"
      ]
    },
    {
      "cell_type": "code",
      "execution_count": null,
      "metadata": {
        "colab": {
          "base_uri": "https://localhost:8080/"
        },
        "id": "r4ritebC9SES",
        "outputId": "d902e5ba-6723-4a39-9986-60168cae19bb"
      },
      "outputs": [
        {
          "output_type": "stream",
          "name": "stdout",
          "text": [
            "Epoch 1/30\n",
            "37/37 [==============================] - 47s 1s/step - loss: 0.6833 - acc: 0.6167 - val_loss: 0.6431 - val_acc: 0.6489\n",
            "Epoch 2/30\n",
            "37/37 [==============================] - 42s 1s/step - loss: 0.6308 - acc: 0.6644 - val_loss: 0.6786 - val_acc: 0.6489\n",
            "Epoch 3/30\n",
            "37/37 [==============================] - 42s 1s/step - loss: 0.6102 - acc: 0.6823 - val_loss: 0.6121 - val_acc: 0.6641\n",
            "Epoch 4/30\n",
            "37/37 [==============================] - 42s 1s/step - loss: 0.5809 - acc: 0.6925 - val_loss: 0.5914 - val_acc: 0.6336\n",
            "Epoch 5/30\n",
            "37/37 [==============================] - 43s 1s/step - loss: 0.5605 - acc: 0.7172 - val_loss: 0.6132 - val_acc: 0.6489\n",
            "Epoch 6/30\n",
            "37/37 [==============================] - 42s 1s/step - loss: 0.5249 - acc: 0.7368 - val_loss: 0.5990 - val_acc: 0.6641\n",
            "Epoch 7/30\n",
            "37/37 [==============================] - 42s 1s/step - loss: 0.5084 - acc: 0.7411 - val_loss: 0.6035 - val_acc: 0.7023\n",
            "Epoch 8/30\n",
            "37/37 [==============================] - 43s 1s/step - loss: 0.5034 - acc: 0.7470 - val_loss: 0.6013 - val_acc: 0.6947\n",
            "Epoch 9/30\n",
            "37/37 [==============================] - 43s 1s/step - loss: 0.4603 - acc: 0.7794 - val_loss: 0.5496 - val_acc: 0.7481\n",
            "Epoch 10/30\n",
            "37/37 [==============================] - 42s 1s/step - loss: 0.4498 - acc: 0.7760 - val_loss: 0.5825 - val_acc: 0.7176\n",
            "Epoch 11/30\n",
            "37/37 [==============================] - 42s 1s/step - loss: 0.4418 - acc: 0.7981 - val_loss: 0.5818 - val_acc: 0.7023\n",
            "Epoch 12/30\n",
            "37/37 [==============================] - 42s 1s/step - loss: 0.4376 - acc: 0.7888 - val_loss: 0.5762 - val_acc: 0.7176\n",
            "Epoch 13/30\n",
            "37/37 [==============================] - 42s 1s/step - loss: 0.4162 - acc: 0.8143 - val_loss: 0.5464 - val_acc: 0.7557\n",
            "Epoch 14/30\n",
            "37/37 [==============================] - 42s 1s/step - loss: 0.4114 - acc: 0.8058 - val_loss: 0.5893 - val_acc: 0.7099\n",
            "Epoch 15/30\n",
            "37/37 [==============================] - 42s 1s/step - loss: 0.4011 - acc: 0.8237 - val_loss: 0.5464 - val_acc: 0.7481\n",
            "Epoch 16/30\n",
            "37/37 [==============================] - 42s 1s/step - loss: 0.3969 - acc: 0.8118 - val_loss: 0.5450 - val_acc: 0.6947\n",
            "Epoch 17/30\n",
            "37/37 [==============================] - 42s 1s/step - loss: 0.3815 - acc: 0.8305 - val_loss: 0.6026 - val_acc: 0.6565\n",
            "Epoch 18/30\n",
            "37/37 [==============================] - 43s 1s/step - loss: 0.3838 - acc: 0.8348 - val_loss: 0.5394 - val_acc: 0.7557\n",
            "Epoch 19/30\n",
            "37/37 [==============================] - 44s 1s/step - loss: 0.3698 - acc: 0.8450 - val_loss: 0.5575 - val_acc: 0.7634\n",
            "Epoch 20/30\n",
            "37/37 [==============================] - 42s 1s/step - loss: 0.3809 - acc: 0.8271 - val_loss: 0.5413 - val_acc: 0.7634\n",
            "Epoch 21/30\n",
            "37/37 [==============================] - 43s 1s/step - loss: 0.3479 - acc: 0.8509 - val_loss: 0.5631 - val_acc: 0.7328\n",
            "Epoch 22/30\n",
            "37/37 [==============================] - 42s 1s/step - loss: 0.3343 - acc: 0.8518 - val_loss: 0.5547 - val_acc: 0.7557\n",
            "Epoch 23/30\n",
            "37/37 [==============================] - 43s 1s/step - loss: 0.3338 - acc: 0.8586 - val_loss: 0.5718 - val_acc: 0.7557\n",
            "Epoch 24/30\n",
            "37/37 [==============================] - 42s 1s/step - loss: 0.3331 - acc: 0.8424 - val_loss: 0.5970 - val_acc: 0.7481\n",
            "Epoch 25/30\n",
            "37/37 [==============================] - 42s 1s/step - loss: 0.3366 - acc: 0.8543 - val_loss: 0.5025 - val_acc: 0.7557\n",
            "Epoch 26/30\n",
            "37/37 [==============================] - 42s 1s/step - loss: 0.3098 - acc: 0.8688 - val_loss: 0.5353 - val_acc: 0.7710\n",
            "Epoch 27/30\n",
            "37/37 [==============================] - 42s 1s/step - loss: 0.3023 - acc: 0.8620 - val_loss: 0.5313 - val_acc: 0.7634\n",
            "Epoch 28/30\n",
            "37/37 [==============================] - 42s 1s/step - loss: 0.2933 - acc: 0.8825 - val_loss: 0.6102 - val_acc: 0.7710\n",
            "Epoch 29/30\n",
            "37/37 [==============================] - 42s 1s/step - loss: 0.2921 - acc: 0.8722 - val_loss: 0.4944 - val_acc: 0.8015\n",
            "Epoch 30/30\n",
            "37/37 [==============================] - 42s 1s/step - loss: 0.2992 - acc: 0.8790 - val_loss: 0.6599 - val_acc: 0.7557\n"
          ]
        }
      ],
      "source": [
        "# Fit model\n",
        "history_dense = model.fit(train_gen,\n",
        "                          epochs=30, \n",
        "                          batch_size=8,\n",
        "                          validation_data = val_gen)"
      ]
    },
    {
      "cell_type": "code",
      "execution_count": null,
      "metadata": {
        "colab": {
          "base_uri": "https://localhost:8080/",
          "height": 281
        },
        "id": "NEnmPzeDARAp",
        "outputId": "168b594a-37f6-45a9-ea09-69d7c6ec8c35"
      },
      "outputs": [
        {
          "output_type": "display_data",
          "data": {
            "text/plain": [
              "<Figure size 432x288 with 1 Axes>"
            ],
            "image/png": "[encoded data removed]"
          },
          "metadata": {
            "needs_background": "light"
          }
        }
      ],
      "source": [
        "# Plot history\n",
        "import matplotlib.pyplot as plt\n",
        "plt.plot(history_dense.history['acc'], color='b', label='Training Accuracy')\n",
        "plt.plot(history_dense.history['val_acc'], color='g', label='Validation Accuracy')\n",
        "plt.title('Training and validation Accuracy')\n",
        "plt.legend()\n",
        "plt.show()"
      ]
    },
    {
      "cell_type": "code",
      "execution_count": null,
      "metadata": {
        "colab": {
          "base_uri": "https://localhost:8080/",
          "height": 281
        },
        "id": "vZ-3vLh9CxiW",
        "outputId": "33c78a61-a2d5-40e9-d897-ec2764e1d80e"
      },
      "outputs": [
        {
          "output_type": "display_data",
          "data": {
            "text/plain": [
              "<Figure size 432x288 with 1 Axes>"
            ],
            "image/png": "[encoded data removed]"
          },
          "metadata": {
            "needs_background": "light"
          }
        }
      ],
      "source": [
        "import matplotlib.pyplot as plt\n",
        "plt.plot(history_dense.history['loss'], color='b', label='Training loss')\n",
        "plt.plot(history_dense.history['val_loss'], color='g', label='Validation loss')\n",
        "plt.title('Training and validation Loss')\n",
        "plt.legend()\n",
        "plt.show()"
      ]
    },
    {
      "cell_type": "code",
      "source": [
        "#evaluate the accuracy based on test set\n",
        "model.evaluate(test_gen)"
      ],
      "metadata": {
        "colab": {
          "base_uri": "https://localhost:8080/"
        },
        "id": "-GtNUUl-cJSu",
        "outputId": "22166134-b653-43bc-d6a0-1d7ba63da093"
      },
      "execution_count": null,
      "outputs": [
        {
          "output_type": "stream",
          "name": "stdout",
          "text": [
            "5/5 [==============================] - 3s 551ms/step - loss: 0.6617 - acc: 0.7945\n"
          ]
        },
        {
          "output_type": "execute_result",
          "data": {
            "text/plain": [
              "[0.661742627620697, 0.7945205569267273]"
            ]
          },
          "metadata": {},
          "execution_count": 59
        }
      ]
    },
    {
      "cell_type": "code",
      "source": [
        ""
      ],
      "metadata": {
        "id": "yU_Q-QlkccGO"
      },
      "execution_count": null,
      "outputs": []
    },
    {
      "cell_type": "markdown",
      "source": [
        "####Improved CNN model"
      ],
      "metadata": {
        "id": "5MJJb-Li1Zl6"
      }
    },
    {
      "cell_type": "code",
      "source": [
        "from tensorflow.keras.models import Sequential\n",
        "from tensorflow.keras.layers import Flatten,Dense\n",
        "from tensorflow.keras.layers import Conv2D, Dense, Dropout, MaxPooling2D, Flatten\n",
        "from tensorflow.keras.callbacks import EarlyStopping, Callback \n",
        "from tensorflow.keras.optimizers import Adam\n",
        "from tensorflow.keras import regularizers\n",
        "from tensorflow.keras.layers import BatchNormalization\n",
        "from tensorflow import keras"
      ],
      "metadata": {
        "id": "VLijs8HyP4RV"
      },
      "execution_count": null,
      "outputs": []
    },
    {
      "cell_type": "code",
      "source": [
        "# Pile up layers. \n",
        "model=Sequential()\n",
        "model.add(Conv2D(128, 5, 3, input_shape=(128,128,3),activation=\"relu\"))\n",
        "model.add(BatchNormalization())\n",
        "model.add(MaxPooling2D(2))\n",
        "model.add(Conv2D(64, 3,activation=\"relu\"))\n",
        "model.add(BatchNormalization())\n",
        "model.add(MaxPooling2D(2))\n",
        "model.add(Conv2D(64, 3,activation=\"relu\"))\n",
        "model.add(BatchNormalization())\n",
        "model.add(MaxPooling2D(2))\n",
        "\n",
        "model.add(Flatten())                                                     \n",
        "model.add(Dense(128,activation=\"relu\",kernel_regularizer=keras.regularizers.l2(10e-5)))\n",
        "model.add(Dropout(0.5))\n",
        "model.add(Dense(64,activation=\"relu\",kernel_regularizer=keras.regularizers.l2(10e-5)))\n",
        "model.add(Dropout(0.5))\n",
        "model.add(Dense(1,activation=\"sigmoid\"))\n",
        "\n",
        "\n",
        "# Compile model\n",
        "opt = Adam(learning_rate=0.001, decay=1e-6)\n",
        "model.compile(loss=\"binary_crossentropy\",\n",
        "              optimizer=opt,\n",
        "              metrics=['acc'])\n",
        "\n",
        "model._name = \"CNN_model_improved\"\n",
        "#model summary\n",
        "model.summary()"
      ],
      "metadata": {
        "colab": {
          "base_uri": "https://localhost:8080/"
        },
        "id": "SWQRwS12P4T0",
        "outputId": "49bc0d54-06b1-4735-9857-ecdbc5ef8b06"
      },
      "execution_count": null,
      "outputs": [
        {
          "output_type": "stream",
          "name": "stdout",
          "text": [
            "Model: \"CNN_model_improved\"\n",
            "_________________________________________________________________\n",
            " Layer (type)                Output Shape              Param #   \n",
            "=================================================================\n",
            " conv2d_38 (Conv2D)          (None, 42, 42, 128)       9728      \n",
            "                                                                 \n",
            " batch_normalization_9 (Batc  (None, 42, 42, 128)      512       \n",
            " hNormalization)                                                 \n",
            "                                                                 \n",
            " max_pooling2d_38 (MaxPoolin  (None, 21, 21, 128)      0         \n",
            " g2D)                                                            \n",
            "                                                                 \n",
            " conv2d_39 (Conv2D)          (None, 19, 19, 64)        73792     \n",
            "                                                                 \n",
            " batch_normalization_10 (Bat  (None, 19, 19, 64)       256       \n",
            " chNormalization)                                                \n",
            "                                                                 \n",
            " max_pooling2d_39 (MaxPoolin  (None, 9, 9, 64)         0         \n",
            " g2D)                                                            \n",
            "                                                                 \n",
            " conv2d_40 (Conv2D)          (None, 7, 7, 64)          36928     \n",
            "                                                                 \n",
            " batch_normalization_11 (Bat  (None, 7, 7, 64)         256       \n",
            " chNormalization)                                                \n",
            "                                                                 \n",
            " max_pooling2d_40 (MaxPoolin  (None, 3, 3, 64)         0         \n",
            " g2D)                                                            \n",
            "                                                                 \n",
            " flatten_13 (Flatten)        (None, 576)               0         \n",
            "                                                                 \n",
            " dense_23 (Dense)            (None, 128)               73856     \n",
            "                                                                 \n",
            " dropout_10 (Dropout)        (None, 128)               0         \n",
            "                                                                 \n",
            " dense_24 (Dense)            (None, 64)                8256      \n",
            "                                                                 \n",
            " dropout_11 (Dropout)        (None, 64)                0         \n",
            "                                                                 \n",
            " dense_25 (Dense)            (None, 1)                 65        \n",
            "                                                                 \n",
            "=================================================================\n",
            "Total params: 203,649\n",
            "Trainable params: 203,137\n",
            "Non-trainable params: 512\n",
            "_________________________________________________________________\n"
          ]
        }
      ]
    },
    {
      "cell_type": "code",
      "source": [
        "# Fit model\n",
        "history_dense = model.fit(train_gen,\n",
        "                          epochs=30, \n",
        "                          batch_size=8,\n",
        "                          validation_data = val_gen)\n",
        "model.save('cnn_improved_model.h5')"
      ],
      "metadata": {
        "colab": {
          "base_uri": "https://localhost:8080/"
        },
        "id": "R_3cogBJP9Pl",
        "outputId": "d721c817-334f-4717-d469-fe638fd17462"
      },
      "execution_count": null,
      "outputs": [
        {
          "output_type": "stream",
          "name": "stdout",
          "text": [
            "Epoch 1/30\n",
            "37/37 [==============================] - 34s 874ms/step - loss: 0.9155 - acc: 0.5809 - val_loss: 0.6865 - val_acc: 0.6183\n",
            "Epoch 2/30\n",
            "37/37 [==============================] - 33s 874ms/step - loss: 0.7039 - acc: 0.6499 - val_loss: 0.7631 - val_acc: 0.4275\n",
            "Epoch 3/30\n",
            "37/37 [==============================] - 32s 870ms/step - loss: 0.6743 - acc: 0.6627 - val_loss: 0.8010 - val_acc: 0.3664\n",
            "Epoch 4/30\n",
            "37/37 [==============================] - 31s 835ms/step - loss: 0.6162 - acc: 0.6746 - val_loss: 0.6950 - val_acc: 0.5802\n",
            "Epoch 5/30\n",
            "37/37 [==============================] - 34s 906ms/step - loss: 0.5971 - acc: 0.7240 - val_loss: 0.8062 - val_acc: 0.3893\n",
            "Epoch 6/30\n",
            "37/37 [==============================] - 32s 872ms/step - loss: 0.5387 - acc: 0.7538 - val_loss: 0.7425 - val_acc: 0.5420\n",
            "Epoch 7/30\n",
            "37/37 [==============================] - 32s 869ms/step - loss: 0.5175 - acc: 0.7436 - val_loss: 0.7662 - val_acc: 0.5420\n",
            "Epoch 8/30\n",
            "37/37 [==============================] - 31s 841ms/step - loss: 0.4847 - acc: 0.7879 - val_loss: 0.6696 - val_acc: 0.6565\n",
            "Epoch 9/30\n",
            "37/37 [==============================] - 32s 843ms/step - loss: 0.4450 - acc: 0.8109 - val_loss: 0.6350 - val_acc: 0.7099\n",
            "Epoch 10/30\n",
            "37/37 [==============================] - 32s 857ms/step - loss: 0.4480 - acc: 0.8083 - val_loss: 0.6371 - val_acc: 0.6947\n",
            "Epoch 11/30\n",
            "37/37 [==============================] - 31s 842ms/step - loss: 0.3920 - acc: 0.8416 - val_loss: 0.6246 - val_acc: 0.7405\n",
            "Epoch 12/30\n",
            "37/37 [==============================] - 32s 849ms/step - loss: 0.3601 - acc: 0.8543 - val_loss: 0.6113 - val_acc: 0.7099\n",
            "Epoch 13/30\n",
            "37/37 [==============================] - 32s 846ms/step - loss: 0.3302 - acc: 0.8688 - val_loss: 0.4706 - val_acc: 0.8397\n",
            "Epoch 14/30\n",
            "37/37 [==============================] - 31s 846ms/step - loss: 0.2944 - acc: 0.9029 - val_loss: 0.4692 - val_acc: 0.8550\n",
            "Epoch 15/30\n",
            "37/37 [==============================] - 31s 842ms/step - loss: 0.3208 - acc: 0.8671 - val_loss: 0.5382 - val_acc: 0.7710\n",
            "Epoch 16/30\n",
            "37/37 [==============================] - 31s 832ms/step - loss: 0.2867 - acc: 0.8876 - val_loss: 0.4314 - val_acc: 0.8397\n",
            "Epoch 17/30\n",
            "37/37 [==============================] - 31s 833ms/step - loss: 0.2601 - acc: 0.9123 - val_loss: 0.6491 - val_acc: 0.7939\n",
            "Epoch 18/30\n",
            "37/37 [==============================] - 32s 858ms/step - loss: 0.2530 - acc: 0.9063 - val_loss: 0.5187 - val_acc: 0.8244\n",
            "Epoch 19/30\n",
            "37/37 [==============================] - 32s 855ms/step - loss: 0.2494 - acc: 0.9106 - val_loss: 0.5053 - val_acc: 0.8244\n",
            "Epoch 20/30\n",
            "37/37 [==============================] - 32s 857ms/step - loss: 0.2468 - acc: 0.9182 - val_loss: 0.4953 - val_acc: 0.7939\n",
            "Epoch 21/30\n",
            "37/37 [==============================] - 32s 846ms/step - loss: 0.2185 - acc: 0.9157 - val_loss: 0.5400 - val_acc: 0.8397\n",
            "Epoch 22/30\n",
            "37/37 [==============================] - 31s 841ms/step - loss: 0.2321 - acc: 0.9208 - val_loss: 0.8212 - val_acc: 0.8015\n",
            "Epoch 23/30\n",
            "37/37 [==============================] - 31s 843ms/step - loss: 0.1999 - acc: 0.9267 - val_loss: 0.5529 - val_acc: 0.8473\n",
            "Epoch 24/30\n",
            "37/37 [==============================] - 31s 839ms/step - loss: 0.2009 - acc: 0.9293 - val_loss: 0.5552 - val_acc: 0.8244\n",
            "Epoch 25/30\n",
            "37/37 [==============================] - 31s 831ms/step - loss: 0.1976 - acc: 0.9267 - val_loss: 0.5765 - val_acc: 0.8397\n",
            "Epoch 26/30\n",
            "37/37 [==============================] - 31s 821ms/step - loss: 0.1987 - acc: 0.9353 - val_loss: 0.4423 - val_acc: 0.8321\n",
            "Epoch 27/30\n",
            "37/37 [==============================] - 31s 825ms/step - loss: 0.1822 - acc: 0.9344 - val_loss: 0.4328 - val_acc: 0.8702\n",
            "Epoch 28/30\n",
            "37/37 [==============================] - 31s 841ms/step - loss: 0.1776 - acc: 0.9319 - val_loss: 0.5124 - val_acc: 0.8473\n",
            "Epoch 29/30\n",
            "37/37 [==============================] - 35s 940ms/step - loss: 0.1732 - acc: 0.9421 - val_loss: 0.4734 - val_acc: 0.8321\n",
            "Epoch 30/30\n",
            "37/37 [==============================] - 31s 834ms/step - loss: 0.1860 - acc: 0.9293 - val_loss: 0.6782 - val_acc: 0.8321\n"
          ]
        }
      ]
    },
    {
      "cell_type": "code",
      "execution_count": null,
      "metadata": {
        "colab": {
          "base_uri": "https://localhost:8080/",
          "height": 281
        },
        "outputId": "1d1cd245-0a80-44ea-b4b4-63639a568fcd",
        "id": "_gXZ5gRvXQxB"
      },
      "outputs": [
        {
          "output_type": "display_data",
          "data": {
            "text/plain": [
              "<Figure size 432x288 with 1 Axes>"
            ],
            "image/png": "[encoded data removed]"
          },
          "metadata": {
            "needs_background": "light"
          }
        }
      ],
      "source": [
        "# Plot history\n",
        "import matplotlib.pyplot as plt\n",
        "plt.plot(history_dense.history['acc'], color='b', label='Training Accuracy')\n",
        "plt.plot(history_dense.history['val_acc'], color='g', label='Validation Accuracy')\n",
        "plt.title('Training and validation Accuracy')\n",
        "plt.legend()\n",
        "plt.show()"
      ]
    },
    {
      "cell_type": "code",
      "execution_count": null,
      "metadata": {
        "colab": {
          "base_uri": "https://localhost:8080/",
          "height": 281
        },
        "outputId": "97375ff7-f56f-452d-f59a-96b050d48a92",
        "id": "pW2DbLo2XQxB"
      },
      "outputs": [
        {
          "output_type": "display_data",
          "data": {
            "text/plain": [
              "<Figure size 432x288 with 1 Axes>"
            ],
            "image/png": "[encoded data removed]"
          },
          "metadata": {
            "needs_background": "light"
          }
        }
      ],
      "source": [
        "import matplotlib.pyplot as plt\n",
        "plt.plot(history_dense.history['loss'], color='b', label='Training loss')\n",
        "plt.plot(history_dense.history['val_loss'], color='g', label='Validation loss')\n",
        "plt.title('Training and validation Loss')\n",
        "plt.legend()\n",
        "plt.show()"
      ]
    },
    {
      "cell_type": "code",
      "execution_count": null,
      "metadata": {
        "colab": {
          "base_uri": "https://localhost:8080/"
        },
        "outputId": "daa08cf0-29b7-46ff-9d46-d2934106eaab",
        "id": "I8NI9xs-XQxB"
      },
      "outputs": [
        {
          "output_type": "stream",
          "name": "stdout",
          "text": [
            "5/5 [==============================] - 3s 496ms/step - loss: 0.9888 - acc: 0.8219\n"
          ]
        },
        {
          "output_type": "execute_result",
          "data": {
            "text/plain": [
              "[0.9887574911117554, 0.8219178318977356]"
            ]
          },
          "metadata": {},
          "execution_count": 45
        }
      ],
      "source": [
        "#evaluate the accuracy based on test set\n",
        "model.evaluate(test_gen)"
      ]
    },
    {
      "cell_type": "markdown",
      "source": [
        "####VGG16 model"
      ],
      "metadata": {
        "id": "JyhMWrY91gDf"
      }
    },
    {
      "cell_type": "code",
      "source": [
        "#Try VGG-16 pre-trained model here\n",
        "from keras.applications.vgg16 import VGG16  \n",
        "from keras.applications.vgg16 import preprocess_input\n",
        "vgg16 = VGG16(weights='imagenet',include_top=False,input_shape=(128,128,3))\n",
        "\n",
        "#Freeze all the layers so that is not updated during training\n",
        "for layer in vgg16.layers:\n",
        "    layer.trainable = False"
      ],
      "metadata": {
        "id": "nhaF1IWQSg4k"
      },
      "execution_count": null,
      "outputs": []
    },
    {
      "cell_type": "code",
      "source": [
        "#Add trainable dense layers\n",
        "# Creating the output layers to train with our dataset\n",
        "from tensorflow.keras.optimizers import RMSprop\n",
        "from tensorflow.keras.layers import Input, Lambda, Dense, Flatten, Dropout\n",
        "from tensorflow.keras.models import Model, Sequential\n",
        "\n",
        "# Flatten the output layer to 1 dimension\n",
        "X = Flatten()(vgg16.output)\n",
        "\n",
        "# Add a fully connected layer with 1024 hidden units and ReLU activation\n",
        "X = Dense(units=1024, activation='relu')(X)\n",
        "\n",
        "# Add a dropout rate of 0.2\n",
        "X = Dropout(0.2)(X)\n",
        "\n",
        "# Add a final sigmoid layer for classification\n",
        "X = Dense(1, activation='sigmoid')(X)\n",
        "\n",
        "# Final Model\n",
        "model = Model(vgg16.input, X)\n",
        "\n",
        "# Compile Model\n",
        "model.compile(optimizer = RMSprop(lr=0.0001),\n",
        "              loss = 'binary_crossentropy',\n",
        "              metrics=['accuracy'])\n",
        "\n",
        "model._name = \"vgg16_basic\"\n",
        "\n",
        "# Model Summary\n",
        "model.summary()"
      ],
      "metadata": {
        "id": "216zKA49THC3",
        "colab": {
          "base_uri": "https://localhost:8080/"
        },
        "outputId": "f6b83e22-c17c-4d4c-9c07-21554fa90c50"
      },
      "execution_count": null,
      "outputs": [
        {
          "output_type": "stream",
          "name": "stdout",
          "text": [
            "Model: \"vgg16_basic\"\n",
            "_________________________________________________________________\n",
            " Layer (type)                Output Shape              Param #   \n",
            "=================================================================\n",
            " input_3 (InputLayer)        [(None, 128, 128, 3)]     0         \n",
            "                                                                 \n",
            " block1_conv1 (Conv2D)       (None, 128, 128, 64)      1792      \n",
            "                                                                 \n",
            " block1_conv2 (Conv2D)       (None, 128, 128, 64)      36928     \n",
            "                                                                 \n",
            " block1_pool (MaxPooling2D)  (None, 64, 64, 64)        0         \n",
            "                                                                 \n",
            " block2_conv1 (Conv2D)       (None, 64, 64, 128)       73856     \n",
            "                                                                 \n",
            " block2_conv2 (Conv2D)       (None, 64, 64, 128)       147584    \n",
            "                                                                 \n",
            " block2_pool (MaxPooling2D)  (None, 32, 32, 128)       0         \n",
            "                                                                 \n",
            " block3_conv1 (Conv2D)       (None, 32, 32, 256)       295168    \n",
            "                                                                 \n",
            " block3_conv2 (Conv2D)       (None, 32, 32, 256)       590080    \n",
            "                                                                 \n",
            " block3_conv3 (Conv2D)       (None, 32, 32, 256)       590080    \n",
            "                                                                 \n",
            " block3_pool (MaxPooling2D)  (None, 16, 16, 256)       0         \n",
            "                                                                 \n",
            " block4_conv1 (Conv2D)       (None, 16, 16, 512)       1180160   \n",
            "                                                                 \n",
            " block4_conv2 (Conv2D)       (None, 16, 16, 512)       2359808   \n",
            "                                                                 \n",
            " block4_conv3 (Conv2D)       (None, 16, 16, 512)       2359808   \n",
            "                                                                 \n",
            " block4_pool (MaxPooling2D)  (None, 8, 8, 512)         0         \n",
            "                                                                 \n",
            " block5_conv1 (Conv2D)       (None, 8, 8, 512)         2359808   \n",
            "                                                                 \n",
            " block5_conv2 (Conv2D)       (None, 8, 8, 512)         2359808   \n",
            "                                                                 \n",
            " block5_conv3 (Conv2D)       (None, 8, 8, 512)         2359808   \n",
            "                                                                 \n",
            " block5_pool (MaxPooling2D)  (None, 4, 4, 512)         0         \n",
            "                                                                 \n",
            " flatten_9 (Flatten)         (None, 8192)              0         \n",
            "                                                                 \n",
            " dense_8 (Dense)             (None, 1024)              8389632   \n",
            "                                                                 \n",
            " dropout_3 (Dropout)         (None, 1024)              0         \n",
            "                                                                 \n",
            " dense_9 (Dense)             (None, 1)                 1025      \n",
            "                                                                 \n",
            "=================================================================\n",
            "Total params: 23,105,345\n",
            "Trainable params: 8,390,657\n",
            "Non-trainable params: 14,714,688\n",
            "_________________________________________________________________\n"
          ]
        },
        {
          "output_type": "stream",
          "name": "stderr",
          "text": [
            "/usr/local/lib/python3.7/dist-packages/keras/optimizer_v2/rmsprop.py:130: UserWarning: The `lr` argument is deprecated, use `learning_rate` instead.\n",
            "  super(RMSprop, self).__init__(name, **kwargs)\n"
          ]
        }
      ]
    },
    {
      "cell_type": "code",
      "source": [
        "# Compile model\n",
        "from tensorflow.keras.optimizers import Adam\n",
        "opt = Adam(learning_rate=0.01, decay=1e-6)\n",
        "model.compile(loss=\"binary_crossentropy\",\n",
        "              optimizer=opt,\n",
        "              metrics=['acc'])"
      ],
      "metadata": {
        "id": "n-FKvQSMThpR"
      },
      "execution_count": null,
      "outputs": []
    },
    {
      "cell_type": "code",
      "source": [
        "# Fit model\n",
        "history_dense = model.fit(train_gen,\n",
        "                          epochs=30, \n",
        "                          batch_size=6,\n",
        "                          validation_data = val_gen)\n",
        "\n",
        "model.save('vgg16_model.h5')"
      ],
      "metadata": {
        "colab": {
          "base_uri": "https://localhost:8080/"
        },
        "id": "npG_2Ea-TjLs",
        "outputId": "dff25c6e-a2eb-4d5d-f2c7-da82c882e17a"
      },
      "execution_count": null,
      "outputs": [
        {
          "output_type": "stream",
          "name": "stdout",
          "text": [
            "Epoch 1/30\n",
            "37/37 [==============================] - 241s 6s/step - loss: 6.8111 - acc: 0.6048 - val_loss: 0.4942 - val_acc: 0.7939\n",
            "Epoch 2/30\n",
            "37/37 [==============================] - 237s 6s/step - loss: 0.5969 - acc: 0.7223 - val_loss: 0.4722 - val_acc: 0.7710\n",
            "Epoch 3/30\n",
            "37/37 [==============================] - 237s 6s/step - loss: 0.4477 - acc: 0.7964 - val_loss: 0.4692 - val_acc: 0.7634\n",
            "Epoch 4/30\n",
            "37/37 [==============================] - 236s 6s/step - loss: 0.4358 - acc: 0.8015 - val_loss: 0.5721 - val_acc: 0.7328\n",
            "Epoch 5/30\n",
            "37/37 [==============================] - 236s 6s/step - loss: 0.4156 - acc: 0.7964 - val_loss: 0.3991 - val_acc: 0.8092\n",
            "Epoch 6/30\n",
            "37/37 [==============================] - 237s 6s/step - loss: 0.3500 - acc: 0.8450 - val_loss: 0.4548 - val_acc: 0.7634\n",
            "Epoch 7/30\n",
            "37/37 [==============================] - 237s 6s/step - loss: 0.3510 - acc: 0.8612 - val_loss: 0.3699 - val_acc: 0.8397\n",
            "Epoch 8/30\n",
            "37/37 [==============================] - 237s 6s/step - loss: 0.3546 - acc: 0.8365 - val_loss: 0.3859 - val_acc: 0.8244\n",
            "Epoch 9/30\n",
            "37/37 [==============================] - 238s 6s/step - loss: 0.2902 - acc: 0.8671 - val_loss: 0.3501 - val_acc: 0.8779\n",
            "Epoch 10/30\n",
            "37/37 [==============================] - 237s 6s/step - loss: 0.4340 - acc: 0.8049 - val_loss: 0.4003 - val_acc: 0.8092\n",
            "Epoch 11/30\n",
            "37/37 [==============================] - 237s 6s/step - loss: 0.3374 - acc: 0.8518 - val_loss: 0.3480 - val_acc: 0.8550\n",
            "Epoch 12/30\n",
            "37/37 [==============================] - 237s 6s/step - loss: 0.3456 - acc: 0.8330 - val_loss: 0.3617 - val_acc: 0.8397\n",
            "Epoch 13/30\n",
            "37/37 [==============================] - 237s 6s/step - loss: 0.2853 - acc: 0.8773 - val_loss: 0.3366 - val_acc: 0.8626\n",
            "Epoch 14/30\n",
            "37/37 [==============================] - 236s 6s/step - loss: 0.3037 - acc: 0.8807 - val_loss: 0.3251 - val_acc: 0.8321\n",
            "Epoch 15/30\n",
            "37/37 [==============================] - 236s 6s/step - loss: 0.3255 - acc: 0.8637 - val_loss: 0.5313 - val_acc: 0.7252\n",
            "Epoch 16/30\n",
            "37/37 [==============================] - 236s 6s/step - loss: 0.3151 - acc: 0.8578 - val_loss: 0.4239 - val_acc: 0.8092\n",
            "Epoch 17/30\n",
            "37/37 [==============================] - 236s 6s/step - loss: 0.3060 - acc: 0.8688 - val_loss: 0.3105 - val_acc: 0.8855\n",
            "Epoch 18/30\n",
            "37/37 [==============================] - 236s 6s/step - loss: 0.2710 - acc: 0.8884 - val_loss: 0.4002 - val_acc: 0.8321\n",
            "Epoch 19/30\n",
            "37/37 [==============================] - 236s 6s/step - loss: 0.2980 - acc: 0.8612 - val_loss: 0.3289 - val_acc: 0.8626\n",
            "Epoch 20/30\n",
            "37/37 [==============================] - 236s 6s/step - loss: 0.2592 - acc: 0.8850 - val_loss: 0.3193 - val_acc: 0.8855\n",
            "Epoch 21/30\n",
            "37/37 [==============================] - 236s 6s/step - loss: 0.2728 - acc: 0.8765 - val_loss: 0.3055 - val_acc: 0.8550\n",
            "Epoch 22/30\n",
            "37/37 [==============================] - 238s 6s/step - loss: 0.2897 - acc: 0.8714 - val_loss: 0.3895 - val_acc: 0.8321\n",
            "Epoch 23/30\n",
            "37/37 [==============================] - 236s 6s/step - loss: 0.3050 - acc: 0.8680 - val_loss: 0.5094 - val_acc: 0.8168\n",
            "Epoch 24/30\n",
            "37/37 [==============================] - 237s 6s/step - loss: 0.2509 - acc: 0.8952 - val_loss: 0.3714 - val_acc: 0.8244\n",
            "Epoch 25/30\n",
            "37/37 [==============================] - 236s 6s/step - loss: 0.2272 - acc: 0.9097 - val_loss: 0.3258 - val_acc: 0.8702\n",
            "Epoch 26/30\n",
            "37/37 [==============================] - 237s 6s/step - loss: 0.2577 - acc: 0.8833 - val_loss: 0.4972 - val_acc: 0.8550\n",
            "Epoch 27/30\n",
            "37/37 [==============================] - 237s 6s/step - loss: 0.2690 - acc: 0.8697 - val_loss: 0.6269 - val_acc: 0.7481\n",
            "Epoch 28/30\n",
            "37/37 [==============================] - 237s 6s/step - loss: 0.3145 - acc: 0.8492 - val_loss: 0.5090 - val_acc: 0.7557\n",
            "Epoch 29/30\n",
            "37/37 [==============================] - 238s 6s/step - loss: 0.2768 - acc: 0.8586 - val_loss: 0.2855 - val_acc: 0.8855\n",
            "Epoch 30/30\n",
            "37/37 [==============================] - 240s 7s/step - loss: 0.2549 - acc: 0.8799 - val_loss: 0.3721 - val_acc: 0.8550\n"
          ]
        }
      ]
    },
    {
      "cell_type": "code",
      "source": [
        "# Plot history\n",
        "import matplotlib.pyplot as plt\n",
        "plt.plot(history_dense.history['acc'], color='b', label='Training Accuracy')\n",
        "plt.plot(history_dense.history['val_acc'], color='g', label='Validation Accuracy')\n",
        "plt.title('Training and validation Accuracy')\n",
        "plt.legend()\n",
        "plt.show()"
      ],
      "metadata": {
        "colab": {
          "base_uri": "https://localhost:8080/",
          "height": 281
        },
        "outputId": "8bb67e0e-7022-4d53-839a-8fbdc9df6590",
        "id": "q7TiMeRnd-TU"
      },
      "execution_count": null,
      "outputs": [
        {
          "output_type": "display_data",
          "data": {
            "text/plain": [
              "<Figure size 432x288 with 1 Axes>"
            ],
            "image/png": "[encoded data removed]"
          },
          "metadata": {
            "needs_background": "light"
          }
        }
      ]
    },
    {
      "cell_type": "code",
      "source": [
        "#plot accuracy\n",
        "import matplotlib.pyplot as plt\n",
        "plt.plot(history_dense.history['loss'], color='b', label='Training loss')\n",
        "plt.plot(history_dense.history['val_loss'], color='g', label='Validation loss')\n",
        "plt.title('Training and validation Loss')\n",
        "plt.legend()\n",
        "plt.show()"
      ],
      "metadata": {
        "colab": {
          "base_uri": "https://localhost:8080/",
          "height": 281
        },
        "outputId": "1a5fe36b-5447-4baa-d5d4-a222c7e966ca",
        "id": "wKMs6nKjd-TV"
      },
      "execution_count": null,
      "outputs": [
        {
          "output_type": "display_data",
          "data": {
            "text/plain": [
              "<Figure size 432x288 with 1 Axes>"
            ],
            "image/png": "[encoded data removed]"
          },
          "metadata": {
            "needs_background": "light"
          }
        }
      ]
    },
    {
      "cell_type": "code",
      "source": [
        "model.evaluate(test_gen)"
      ],
      "metadata": {
        "colab": {
          "base_uri": "https://localhost:8080/"
        },
        "outputId": "9c8b6c97-7fc5-4e06-b77a-152fa5bb9d31",
        "id": "UDrY2Aq_d-TW"
      },
      "execution_count": null,
      "outputs": [
        {
          "output_type": "stream",
          "name": "stdout",
          "text": [
            "5/5 [==============================] - 26s 5s/step - loss: 0.6780 - acc: 0.7808\n"
          ]
        },
        {
          "output_type": "execute_result",
          "data": {
            "text/plain": [
              "[0.6779763698577881, 0.7808219194412231]"
            ]
          },
          "metadata": {},
          "execution_count": 43
        }
      ]
    },
    {
      "cell_type": "code",
      "source": [
        ""
      ],
      "metadata": {
        "id": "bhw1R_gU9MXJ"
      },
      "execution_count": null,
      "outputs": []
    },
    {
      "cell_type": "markdown",
      "source": [
        "####VGG19 model"
      ],
      "metadata": {
        "id": "HyAMsCm51kxb"
      }
    },
    {
      "cell_type": "code",
      "source": [
        "#Try VGG-19 pre-trained model here\n",
        "from keras.applications.vgg19 import VGG19   \n",
        "from keras.applications.vgg19 import preprocess_input\n",
        "vgg19 = VGG19(weights='imagenet',include_top=False,input_shape=(128,128,3))\n",
        "\n",
        "#Freeze all the layers so that is not updated during training\n",
        "for layer in vgg19.layers:\n",
        "    layer.trainable = False"
      ],
      "metadata": {
        "id": "MFoaDrBoCABN"
      },
      "execution_count": null,
      "outputs": []
    },
    {
      "cell_type": "code",
      "source": [
        "from keras.backend import dropout\n",
        "#Add trainable dense layers\n",
        "from keras.layers import Activation\n",
        "from tensorflow.keras.layers import Input, Lambda, Dense, Flatten, Dropout\n",
        "from tensorflow.keras.models import Model, Sequential\n",
        "\n",
        "flat_1 = Flatten()(vgg19.output)\n",
        "\n",
        "# fc_1 = Dense(128)(flat_1)\n",
        "\n",
        "# fc_2 = dropout(0.25)\n",
        "\n",
        "\n",
        "fc_1 = Flatten()(flat_1)\n",
        "fc_2 = Dense(256, activation='relu')(fc_1)\n",
        "f1_3 = Dropout(0.25)(fc_2)\n",
        "act_2 = Dense(units=1, activation='sigmoid')(f1_3)\n"
      ],
      "metadata": {
        "id": "VQAw9HZtCABQ"
      },
      "execution_count": null,
      "outputs": []
    },
    {
      "cell_type": "code",
      "source": [
        "model = Model(inputs=vgg19.input, outputs=act_2)\n",
        "model._name = \"vgg19_model_basic\"\n",
        "\n",
        "model.summary()"
      ],
      "metadata": {
        "colab": {
          "base_uri": "https://localhost:8080/"
        },
        "outputId": "960e2b48-98ae-4bf0-dc11-a86f5374eda2",
        "id": "UnVMw5FxCABQ"
      },
      "execution_count": null,
      "outputs": [
        {
          "output_type": "stream",
          "name": "stdout",
          "text": [
            "Model: \"vgg19_model_basic\"\n",
            "_________________________________________________________________\n",
            " Layer (type)                Output Shape              Param #   \n",
            "=================================================================\n",
            " input_10 (InputLayer)       [(None, 128, 128, 3)]     0         \n",
            "                                                                 \n",
            " block1_conv1 (Conv2D)       (None, 128, 128, 64)      1792      \n",
            "                                                                 \n",
            " block1_conv2 (Conv2D)       (None, 128, 128, 64)      36928     \n",
            "                                                                 \n",
            " block1_pool (MaxPooling2D)  (None, 64, 64, 64)        0         \n",
            "                                                                 \n",
            " block2_conv1 (Conv2D)       (None, 64, 64, 128)       73856     \n",
            "                                                                 \n",
            " block2_conv2 (Conv2D)       (None, 64, 64, 128)       147584    \n",
            "                                                                 \n",
            " block2_pool (MaxPooling2D)  (None, 32, 32, 128)       0         \n",
            "                                                                 \n",
            " block3_conv1 (Conv2D)       (None, 32, 32, 256)       295168    \n",
            "                                                                 \n",
            " block3_conv2 (Conv2D)       (None, 32, 32, 256)       590080    \n",
            "                                                                 \n",
            " block3_conv3 (Conv2D)       (None, 32, 32, 256)       590080    \n",
            "                                                                 \n",
            " block3_conv4 (Conv2D)       (None, 32, 32, 256)       590080    \n",
            "                                                                 \n",
            " block3_pool (MaxPooling2D)  (None, 16, 16, 256)       0         \n",
            "                                                                 \n",
            " block4_conv1 (Conv2D)       (None, 16, 16, 512)       1180160   \n",
            "                                                                 \n",
            " block4_conv2 (Conv2D)       (None, 16, 16, 512)       2359808   \n",
            "                                                                 \n",
            " block4_conv3 (Conv2D)       (None, 16, 16, 512)       2359808   \n",
            "                                                                 \n",
            " block4_conv4 (Conv2D)       (None, 16, 16, 512)       2359808   \n",
            "                                                                 \n",
            " block4_pool (MaxPooling2D)  (None, 8, 8, 512)         0         \n",
            "                                                                 \n",
            " block5_conv1 (Conv2D)       (None, 8, 8, 512)         2359808   \n",
            "                                                                 \n",
            " block5_conv2 (Conv2D)       (None, 8, 8, 512)         2359808   \n",
            "                                                                 \n",
            " block5_conv3 (Conv2D)       (None, 8, 8, 512)         2359808   \n",
            "                                                                 \n",
            " block5_conv4 (Conv2D)       (None, 8, 8, 512)         2359808   \n",
            "                                                                 \n",
            " block5_pool (MaxPooling2D)  (None, 4, 4, 512)         0         \n",
            "                                                                 \n",
            " flatten_7 (Flatten)         (None, 8192)              0         \n",
            "                                                                 \n",
            " flatten_8 (Flatten)         (None, 8192)              0         \n",
            "                                                                 \n",
            " dense_16 (Dense)            (None, 256)               2097408   \n",
            "                                                                 \n",
            " dropout_6 (Dropout)         (None, 256)               0         \n",
            "                                                                 \n",
            " dense_17 (Dense)            (None, 1)                 257       \n",
            "                                                                 \n",
            "=================================================================\n",
            "Total params: 22,122,049\n",
            "Trainable params: 2,097,665\n",
            "Non-trainable params: 20,024,384\n",
            "_________________________________________________________________\n"
          ]
        }
      ]
    },
    {
      "cell_type": "code",
      "source": [
        "# Compile model\n",
        "from tensorflow.keras.optimizers import Adam\n",
        "opt = Adam(learning_rate=0.001, decay=1e-6)\n",
        "model.compile(loss=\"binary_crossentropy\",\n",
        "              optimizer=opt,\n",
        "              metrics=['acc'])"
      ],
      "metadata": {
        "id": "UJTdHtVWCABR"
      },
      "execution_count": null,
      "outputs": []
    },
    {
      "cell_type": "code",
      "source": [
        "# Fit model\n",
        "history_dense = model.fit(train_gen,\n",
        "                          epochs=30, \n",
        "                          batch_size=6,\n",
        "                          validation_data = val_gen)\n",
        "model.save('vgg19_model.h5')"
      ],
      "metadata": {
        "colab": {
          "base_uri": "https://localhost:8080/"
        },
        "outputId": "d21b86bb-3d06-4038-ba8b-a3359d89f45c",
        "id": "Rqf7qoFACABR"
      },
      "execution_count": null,
      "outputs": [
        {
          "output_type": "stream",
          "name": "stdout",
          "text": [
            "Epoch 1/30\n",
            "37/37 [==============================] - 290s 8s/step - loss: 0.8606 - acc: 0.6354 - val_loss: 0.6250 - val_acc: 0.6718\n",
            "Epoch 2/30\n",
            "37/37 [==============================] - 289s 8s/step - loss: 0.5387 - acc: 0.7181 - val_loss: 0.5927 - val_acc: 0.6794\n",
            "Epoch 3/30\n",
            "37/37 [==============================] - 288s 8s/step - loss: 0.4952 - acc: 0.7470 - val_loss: 0.5976 - val_acc: 0.6947\n",
            "Epoch 4/30\n",
            "37/37 [==============================] - 288s 8s/step - loss: 0.4531 - acc: 0.7964 - val_loss: 0.5412 - val_acc: 0.7328\n",
            "Epoch 5/30\n",
            "37/37 [==============================] - 287s 8s/step - loss: 0.4249 - acc: 0.8041 - val_loss: 0.5237 - val_acc: 0.7481\n",
            "Epoch 6/30\n",
            "37/37 [==============================] - 288s 8s/step - loss: 0.4393 - acc: 0.7913 - val_loss: 0.5618 - val_acc: 0.7176\n",
            "Epoch 7/30\n",
            "37/37 [==============================] - 288s 8s/step - loss: 0.3806 - acc: 0.8313 - val_loss: 0.5498 - val_acc: 0.7328\n",
            "Epoch 8/30\n",
            "37/37 [==============================] - 289s 8s/step - loss: 0.3685 - acc: 0.8339 - val_loss: 0.5741 - val_acc: 0.7328\n",
            "Epoch 9/30\n",
            "37/37 [==============================] - 288s 8s/step - loss: 0.3572 - acc: 0.8467 - val_loss: 0.6281 - val_acc: 0.7252\n",
            "Epoch 10/30\n",
            "37/37 [==============================] - 288s 8s/step - loss: 0.3519 - acc: 0.8433 - val_loss: 0.5376 - val_acc: 0.7939\n",
            "Epoch 11/30\n",
            "37/37 [==============================] - 288s 8s/step - loss: 0.3458 - acc: 0.8433 - val_loss: 0.5356 - val_acc: 0.7939\n",
            "Epoch 12/30\n",
            "37/37 [==============================] - 288s 8s/step - loss: 0.2921 - acc: 0.8876 - val_loss: 0.5311 - val_acc: 0.7939\n",
            "Epoch 13/30\n",
            "37/37 [==============================] - 288s 8s/step - loss: 0.2938 - acc: 0.8697 - val_loss: 0.6663 - val_acc: 0.6947\n",
            "Epoch 14/30\n",
            "37/37 [==============================] - 288s 8s/step - loss: 0.3042 - acc: 0.8629 - val_loss: 0.5916 - val_acc: 0.7863\n",
            "Epoch 15/30\n",
            "37/37 [==============================] - 288s 8s/step - loss: 0.2723 - acc: 0.8952 - val_loss: 0.5903 - val_acc: 0.7710\n",
            "Epoch 16/30\n",
            "37/37 [==============================] - 288s 8s/step - loss: 0.2790 - acc: 0.8807 - val_loss: 0.6210 - val_acc: 0.7786\n",
            "Epoch 17/30\n",
            "37/37 [==============================] - 287s 8s/step - loss: 0.2855 - acc: 0.8825 - val_loss: 0.5256 - val_acc: 0.7863\n",
            "Epoch 18/30\n",
            "37/37 [==============================] - 287s 8s/step - loss: 0.2586 - acc: 0.8842 - val_loss: 0.4794 - val_acc: 0.8244\n",
            "Epoch 19/30\n",
            "37/37 [==============================] - 287s 8s/step - loss: 0.2407 - acc: 0.9072 - val_loss: 0.5757 - val_acc: 0.7786\n",
            "Epoch 20/30\n",
            "37/37 [==============================] - 290s 8s/step - loss: 0.2683 - acc: 0.8833 - val_loss: 0.5353 - val_acc: 0.8092\n",
            "Epoch 21/30\n",
            "37/37 [==============================] - 297s 8s/step - loss: 0.2760 - acc: 0.8910 - val_loss: 0.6448 - val_acc: 0.7557\n",
            "Epoch 22/30\n",
            "37/37 [==============================] - 294s 8s/step - loss: 0.2196 - acc: 0.9029 - val_loss: 0.6133 - val_acc: 0.8397\n",
            "Epoch 23/30\n",
            "37/37 [==============================] - 294s 8s/step - loss: 0.2209 - acc: 0.9131 - val_loss: 0.5943 - val_acc: 0.8015\n",
            "Epoch 24/30\n",
            "37/37 [==============================] - 293s 8s/step - loss: 0.2121 - acc: 0.9123 - val_loss: 0.7003 - val_acc: 0.7023\n",
            "Epoch 25/30\n",
            "37/37 [==============================] - 289s 8s/step - loss: 0.2412 - acc: 0.9123 - val_loss: 0.5910 - val_acc: 0.7939\n",
            "Epoch 26/30\n",
            "37/37 [==============================] - 287s 8s/step - loss: 0.2036 - acc: 0.9191 - val_loss: 0.6282 - val_acc: 0.7634\n",
            "Epoch 27/30\n",
            "37/37 [==============================] - 287s 8s/step - loss: 0.2275 - acc: 0.9046 - val_loss: 0.5667 - val_acc: 0.7634\n",
            "Epoch 28/30\n",
            "37/37 [==============================] - 287s 8s/step - loss: 0.2176 - acc: 0.9046 - val_loss: 0.6554 - val_acc: 0.7710\n",
            "Epoch 29/30\n",
            "37/37 [==============================] - 287s 8s/step - loss: 0.2476 - acc: 0.8927 - val_loss: 0.7114 - val_acc: 0.7786\n",
            "Epoch 30/30\n",
            "37/37 [==============================] - 287s 8s/step - loss: 0.2199 - acc: 0.9072 - val_loss: 0.5649 - val_acc: 0.8321\n"
          ]
        }
      ]
    },
    {
      "cell_type": "code",
      "source": [
        "# Plot history\n",
        "import matplotlib.pyplot as plt\n",
        "plt.plot(history_dense.history['acc'], color='b', label='Training Accuracy')\n",
        "plt.plot(history_dense.history['val_acc'], color='g', label='Validation Accuracy')\n",
        "plt.title('Training and validation Accuracy')\n",
        "plt.legend()\n",
        "plt.show()"
      ],
      "metadata": {
        "colab": {
          "base_uri": "https://localhost:8080/",
          "height": 281
        },
        "outputId": "11d86240-4c5f-4a7d-f9ce-6517510d3c24",
        "id": "umwjK6U6CABR"
      },
      "execution_count": null,
      "outputs": [
        {
          "output_type": "display_data",
          "data": {
            "text/plain": [
              "<Figure size 432x288 with 1 Axes>"
            ],
            "image/png": "[encoded data removed]"
          },
          "metadata": {
            "needs_background": "light"
          }
        }
      ]
    },
    {
      "cell_type": "code",
      "source": [
        "import matplotlib.pyplot as plt\n",
        "plt.plot(history_dense.history['loss'], color='b', label='Training loss')\n",
        "plt.plot(history_dense.history['val_loss'], color='g', label='Validation loss')\n",
        "plt.title('Training and validation Loss')\n",
        "plt.legend()\n",
        "plt.show()"
      ],
      "metadata": {
        "colab": {
          "base_uri": "https://localhost:8080/",
          "height": 281
        },
        "outputId": "d9595dc3-7945-4843-d136-fd032f6fc709",
        "id": "lQsxsLEoCABR"
      },
      "execution_count": null,
      "outputs": [
        {
          "output_type": "display_data",
          "data": {
            "text/plain": [
              "<Figure size 432x288 with 1 Axes>"
            ],
            "image/png": "[encoded data removed]"
          },
          "metadata": {
            "needs_background": "light"
          }
        }
      ]
    },
    {
      "cell_type": "code",
      "source": [
        "model.evaluate(test_gen)"
      ],
      "metadata": {
        "colab": {
          "base_uri": "https://localhost:8080/"
        },
        "id": "h2CDFRdPCABR",
        "outputId": "925ee235-3a5c-45a1-8761-896fac0e3c97"
      },
      "execution_count": null,
      "outputs": [
        {
          "output_type": "stream",
          "name": "stdout",
          "text": [
            "5/5 [==============================] - 32s 6s/step - loss: 0.4085 - acc: 0.8425\n"
          ]
        },
        {
          "output_type": "execute_result",
          "data": {
            "text/plain": [
              "[0.40851500630378723, 0.8424657583236694]"
            ]
          },
          "metadata": {},
          "execution_count": 76
        }
      ]
    },
    {
      "cell_type": "code",
      "source": [
        ""
      ],
      "metadata": {
        "id": "3nutH2Wc1lJB"
      },
      "execution_count": null,
      "outputs": []
    },
    {
      "cell_type": "markdown",
      "source": [
        "####InceptionV3 model\n"
      ],
      "metadata": {
        "id": "HN1V0Nkjq7-Z"
      }
    },
    {
      "cell_type": "code",
      "source": [
        "from keras.applications.inception_v3 import InceptionV3"
      ],
      "metadata": {
        "id": "NCjWhNtmq5WS"
      },
      "execution_count": 31,
      "outputs": []
    },
    {
      "cell_type": "code",
      "source": [
        "# Making an instance of the pre-trained model\n",
        "inception_model = InceptionV3(input_shape=(128, 128, 3),\n",
        "                              include_top=False,\n",
        "                              weights='imagenet')"
      ],
      "metadata": {
        "id": "3wI2C6LMq5WT"
      },
      "execution_count": 32,
      "outputs": []
    },
    {
      "cell_type": "code",
      "source": [
        "# Making all the layers non trainable\n",
        "for layer in inception_model.layers:\n",
        "  layer.trainable = False"
      ],
      "metadata": {
        "id": "CcDaqkbOq5WT"
      },
      "execution_count": 33,
      "outputs": []
    },
    {
      "cell_type": "code",
      "source": [
        "# Creating the output layers to train with our dataset\n",
        "from tensorflow.keras.optimizers import Adam\n",
        "from tensorflow.keras.layers import Input, Lambda, Dense, Flatten, Dropout\n",
        "from tensorflow.keras.models import Model, Sequential\n",
        "\n",
        "# Flatten the output layer to 1 dimension\n",
        "X = Flatten()(inception_model.output)\n",
        "\n",
        "# Add a fully connected layer with 1024 hidden units and ReLU activation\n",
        "\n",
        "\n",
        "# Add a final sigmoid layer for classification\n",
        "X = Dense(1, activation='sigmoid')(X)\n",
        "\n",
        "# Final Model\n",
        "model = Model(inception_model.input, X)\n",
        "\n",
        "# Compile Model\n",
        "from tensorflow.keras.optimizers import Adam\n",
        "opt = Adam(learning_rate=0.001, decay=1e-6)\n",
        "model.compile(optimizer = opt,\n",
        "              loss = 'binary_crossentropy',\n",
        "              metrics=['accuracy'])\n",
        "\n",
        "model._name = \"inception_model_basic\"\n",
        "\n",
        "# Model Summary\n",
        "model.summary()"
      ],
      "metadata": {
        "colab": {
          "base_uri": "https://localhost:8080/"
        },
        "outputId": "a82c803e-9693-46ab-c029-6cc61af17a92",
        "id": "WIjBwKzEq5WT"
      },
      "execution_count": 34,
      "outputs": [
        {
          "output_type": "stream",
          "name": "stdout",
          "text": [
            "Model: \"inception_model_basic\"\n",
            "__________________________________________________________________________________________________\n",
            " Layer (type)                   Output Shape         Param #     Connected to                     \n",
            "==================================================================================================\n",
            " input_2 (InputLayer)           [(None, 128, 128, 3  0           []                               \n",
            "                                )]                                                                \n",
            "                                                                                                  \n",
            " conv2d_94 (Conv2D)             (None, 63, 63, 32)   864         ['input_2[0][0]']                \n",
            "                                                                                                  \n",
            " batch_normalization_94 (BatchN  (None, 63, 63, 32)  96          ['conv2d_94[0][0]']              \n",
            " ormalization)                                                                                    \n",
            "                                                                                                  \n",
            " activation_94 (Activation)     (None, 63, 63, 32)   0           ['batch_normalization_94[0][0]'] \n",
            "                                                                                                  \n",
            " conv2d_95 (Conv2D)             (None, 61, 61, 32)   9216        ['activation_94[0][0]']          \n",
            "                                                                                                  \n",
            " batch_normalization_95 (BatchN  (None, 61, 61, 32)  96          ['conv2d_95[0][0]']              \n",
            " ormalization)                                                                                    \n",
            "                                                                                                  \n",
            " activation_95 (Activation)     (None, 61, 61, 32)   0           ['batch_normalization_95[0][0]'] \n",
            "                                                                                                  \n",
            " conv2d_96 (Conv2D)             (None, 61, 61, 64)   18432       ['activation_95[0][0]']          \n",
            "                                                                                                  \n",
            " batch_normalization_96 (BatchN  (None, 61, 61, 64)  192         ['conv2d_96[0][0]']              \n",
            " ormalization)                                                                                    \n",
            "                                                                                                  \n",
            " activation_96 (Activation)     (None, 61, 61, 64)   0           ['batch_normalization_96[0][0]'] \n",
            "                                                                                                  \n",
            " max_pooling2d_4 (MaxPooling2D)  (None, 30, 30, 64)  0           ['activation_96[0][0]']          \n",
            "                                                                                                  \n",
            " conv2d_97 (Conv2D)             (None, 30, 30, 80)   5120        ['max_pooling2d_4[0][0]']        \n",
            "                                                                                                  \n",
            " batch_normalization_97 (BatchN  (None, 30, 30, 80)  240         ['conv2d_97[0][0]']              \n",
            " ormalization)                                                                                    \n",
            "                                                                                                  \n",
            " activation_97 (Activation)     (None, 30, 30, 80)   0           ['batch_normalization_97[0][0]'] \n",
            "                                                                                                  \n",
            " conv2d_98 (Conv2D)             (None, 28, 28, 192)  138240      ['activation_97[0][0]']          \n",
            "                                                                                                  \n",
            " batch_normalization_98 (BatchN  (None, 28, 28, 192)  576        ['conv2d_98[0][0]']              \n",
            " ormalization)                                                                                    \n",
            "                                                                                                  \n",
            " activation_98 (Activation)     (None, 28, 28, 192)  0           ['batch_normalization_98[0][0]'] \n",
            "                                                                                                  \n",
            " max_pooling2d_5 (MaxPooling2D)  (None, 13, 13, 192)  0          ['activation_98[0][0]']          \n",
            "                                                                                                  \n",
            " conv2d_102 (Conv2D)            (None, 13, 13, 64)   12288       ['max_pooling2d_5[0][0]']        \n",
            "                                                                                                  \n",
            " batch_normalization_102 (Batch  (None, 13, 13, 64)  192         ['conv2d_102[0][0]']             \n",
            " Normalization)                                                                                   \n",
            "                                                                                                  \n",
            " activation_102 (Activation)    (None, 13, 13, 64)   0           ['batch_normalization_102[0][0]']\n",
            "                                                                                                  \n",
            " conv2d_100 (Conv2D)            (None, 13, 13, 48)   9216        ['max_pooling2d_5[0][0]']        \n",
            "                                                                                                  \n",
            " conv2d_103 (Conv2D)            (None, 13, 13, 96)   55296       ['activation_102[0][0]']         \n",
            "                                                                                                  \n",
            " batch_normalization_100 (Batch  (None, 13, 13, 48)  144         ['conv2d_100[0][0]']             \n",
            " Normalization)                                                                                   \n",
            "                                                                                                  \n",
            " batch_normalization_103 (Batch  (None, 13, 13, 96)  288         ['conv2d_103[0][0]']             \n",
            " Normalization)                                                                                   \n",
            "                                                                                                  \n",
            " activation_100 (Activation)    (None, 13, 13, 48)   0           ['batch_normalization_100[0][0]']\n",
            "                                                                                                  \n",
            " activation_103 (Activation)    (None, 13, 13, 96)   0           ['batch_normalization_103[0][0]']\n",
            "                                                                                                  \n",
            " average_pooling2d_9 (AveragePo  (None, 13, 13, 192)  0          ['max_pooling2d_5[0][0]']        \n",
            " oling2D)                                                                                         \n",
            "                                                                                                  \n",
            " conv2d_99 (Conv2D)             (None, 13, 13, 64)   12288       ['max_pooling2d_5[0][0]']        \n",
            "                                                                                                  \n",
            " conv2d_101 (Conv2D)            (None, 13, 13, 64)   76800       ['activation_100[0][0]']         \n",
            "                                                                                                  \n",
            " conv2d_104 (Conv2D)            (None, 13, 13, 96)   82944       ['activation_103[0][0]']         \n",
            "                                                                                                  \n",
            " conv2d_105 (Conv2D)            (None, 13, 13, 32)   6144        ['average_pooling2d_9[0][0]']    \n",
            "                                                                                                  \n",
            " batch_normalization_99 (BatchN  (None, 13, 13, 64)  192         ['conv2d_99[0][0]']              \n",
            " ormalization)                                                                                    \n",
            "                                                                                                  \n",
            " batch_normalization_101 (Batch  (None, 13, 13, 64)  192         ['conv2d_101[0][0]']             \n",
            " Normalization)                                                                                   \n",
            "                                                                                                  \n",
            " batch_normalization_104 (Batch  (None, 13, 13, 96)  288         ['conv2d_104[0][0]']             \n",
            " Normalization)                                                                                   \n",
            "                                                                                                  \n",
            " batch_normalization_105 (Batch  (None, 13, 13, 32)  96          ['conv2d_105[0][0]']             \n",
            " Normalization)                                                                                   \n",
            "                                                                                                  \n",
            " activation_99 (Activation)     (None, 13, 13, 64)   0           ['batch_normalization_99[0][0]'] \n",
            "                                                                                                  \n",
            " activation_101 (Activation)    (None, 13, 13, 64)   0           ['batch_normalization_101[0][0]']\n",
            "                                                                                                  \n",
            " activation_104 (Activation)    (None, 13, 13, 96)   0           ['batch_normalization_104[0][0]']\n",
            "                                                                                                  \n",
            " activation_105 (Activation)    (None, 13, 13, 32)   0           ['batch_normalization_105[0][0]']\n",
            "                                                                                                  \n",
            " mixed0 (Concatenate)           (None, 13, 13, 256)  0           ['activation_99[0][0]',          \n",
            "                                                                  'activation_101[0][0]',         \n",
            "                                                                  'activation_104[0][0]',         \n",
            "                                                                  'activation_105[0][0]']         \n",
            "                                                                                                  \n",
            " conv2d_109 (Conv2D)            (None, 13, 13, 64)   16384       ['mixed0[0][0]']                 \n",
            "                                                                                                  \n",
            " batch_normalization_109 (Batch  (None, 13, 13, 64)  192         ['conv2d_109[0][0]']             \n",
            " Normalization)                                                                                   \n",
            "                                                                                                  \n",
            " activation_109 (Activation)    (None, 13, 13, 64)   0           ['batch_normalization_109[0][0]']\n",
            "                                                                                                  \n",
            " conv2d_107 (Conv2D)            (None, 13, 13, 48)   12288       ['mixed0[0][0]']                 \n",
            "                                                                                                  \n",
            " conv2d_110 (Conv2D)            (None, 13, 13, 96)   55296       ['activation_109[0][0]']         \n",
            "                                                                                                  \n",
            " batch_normalization_107 (Batch  (None, 13, 13, 48)  144         ['conv2d_107[0][0]']             \n",
            " Normalization)                                                                                   \n",
            "                                                                                                  \n",
            " batch_normalization_110 (Batch  (None, 13, 13, 96)  288         ['conv2d_110[0][0]']             \n",
            " Normalization)                                                                                   \n",
            "                                                                                                  \n",
            " activation_107 (Activation)    (None, 13, 13, 48)   0           ['batch_normalization_107[0][0]']\n",
            "                                                                                                  \n",
            " activation_110 (Activation)    (None, 13, 13, 96)   0           ['batch_normalization_110[0][0]']\n",
            "                                                                                                  \n",
            " average_pooling2d_10 (AverageP  (None, 13, 13, 256)  0          ['mixed0[0][0]']                 \n",
            " ooling2D)                                                                                        \n",
            "                                                                                                  \n",
            " conv2d_106 (Conv2D)            (None, 13, 13, 64)   16384       ['mixed0[0][0]']                 \n",
            "                                                                                                  \n",
            " conv2d_108 (Conv2D)            (None, 13, 13, 64)   76800       ['activation_107[0][0]']         \n",
            "                                                                                                  \n",
            " conv2d_111 (Conv2D)            (None, 13, 13, 96)   82944       ['activation_110[0][0]']         \n",
            "                                                                                                  \n",
            " conv2d_112 (Conv2D)            (None, 13, 13, 64)   16384       ['average_pooling2d_10[0][0]']   \n",
            "                                                                                                  \n",
            " batch_normalization_106 (Batch  (None, 13, 13, 64)  192         ['conv2d_106[0][0]']             \n",
            " Normalization)                                                                                   \n",
            "                                                                                                  \n",
            " batch_normalization_108 (Batch  (None, 13, 13, 64)  192         ['conv2d_108[0][0]']             \n",
            " Normalization)                                                                                   \n",
            "                                                                                                  \n",
            " batch_normalization_111 (Batch  (None, 13, 13, 96)  288         ['conv2d_111[0][0]']             \n",
            " Normalization)                                                                                   \n",
            "                                                                                                  \n",
            " batch_normalization_112 (Batch  (None, 13, 13, 64)  192         ['conv2d_112[0][0]']             \n",
            " Normalization)                                                                                   \n",
            "                                                                                                  \n",
            " activation_106 (Activation)    (None, 13, 13, 64)   0           ['batch_normalization_106[0][0]']\n",
            "                                                                                                  \n",
            " activation_108 (Activation)    (None, 13, 13, 64)   0           ['batch_normalization_108[0][0]']\n",
            "                                                                                                  \n",
            " activation_111 (Activation)    (None, 13, 13, 96)   0           ['batch_normalization_111[0][0]']\n",
            "                                                                                                  \n",
            " activation_112 (Activation)    (None, 13, 13, 64)   0           ['batch_normalization_112[0][0]']\n",
            "                                                                                                  \n",
            " mixed1 (Concatenate)           (None, 13, 13, 288)  0           ['activation_106[0][0]',         \n",
            "                                                                  'activation_108[0][0]',         \n",
            "                                                                  'activation_111[0][0]',         \n",
            "                                                                  'activation_112[0][0]']         \n",
            "                                                                                                  \n",
            " conv2d_116 (Conv2D)            (None, 13, 13, 64)   18432       ['mixed1[0][0]']                 \n",
            "                                                                                                  \n",
            " batch_normalization_116 (Batch  (None, 13, 13, 64)  192         ['conv2d_116[0][0]']             \n",
            " Normalization)                                                                                   \n",
            "                                                                                                  \n",
            " activation_116 (Activation)    (None, 13, 13, 64)   0           ['batch_normalization_116[0][0]']\n",
            "                                                                                                  \n",
            " conv2d_114 (Conv2D)            (None, 13, 13, 48)   13824       ['mixed1[0][0]']                 \n",
            "                                                                                                  \n",
            " conv2d_117 (Conv2D)            (None, 13, 13, 96)   55296       ['activation_116[0][0]']         \n",
            "                                                                                                  \n",
            " batch_normalization_114 (Batch  (None, 13, 13, 48)  144         ['conv2d_114[0][0]']             \n",
            " Normalization)                                                                                   \n",
            "                                                                                                  \n",
            " batch_normalization_117 (Batch  (None, 13, 13, 96)  288         ['conv2d_117[0][0]']             \n",
            " Normalization)                                                                                   \n",
            "                                                                                                  \n",
            " activation_114 (Activation)    (None, 13, 13, 48)   0           ['batch_normalization_114[0][0]']\n",
            "                                                                                                  \n",
            " activation_117 (Activation)    (None, 13, 13, 96)   0           ['batch_normalization_117[0][0]']\n",
            "                                                                                                  \n",
            " average_pooling2d_11 (AverageP  (None, 13, 13, 288)  0          ['mixed1[0][0]']                 \n",
            " ooling2D)                                                                                        \n",
            "                                                                                                  \n",
            " conv2d_113 (Conv2D)            (None, 13, 13, 64)   18432       ['mixed1[0][0]']                 \n",
            "                                                                                                  \n",
            " conv2d_115 (Conv2D)            (None, 13, 13, 64)   76800       ['activation_114[0][0]']         \n",
            "                                                                                                  \n",
            " conv2d_118 (Conv2D)            (None, 13, 13, 96)   82944       ['activation_117[0][0]']         \n",
            "                                                                                                  \n",
            " conv2d_119 (Conv2D)            (None, 13, 13, 64)   18432       ['average_pooling2d_11[0][0]']   \n",
            "                                                                                                  \n",
            " batch_normalization_113 (Batch  (None, 13, 13, 64)  192         ['conv2d_113[0][0]']             \n",
            " Normalization)                                                                                   \n",
            "                                                                                                  \n",
            " batch_normalization_115 (Batch  (None, 13, 13, 64)  192         ['conv2d_115[0][0]']             \n",
            " Normalization)                                                                                   \n",
            "                                                                                                  \n",
            " batch_normalization_118 (Batch  (None, 13, 13, 96)  288         ['conv2d_118[0][0]']             \n",
            " Normalization)                                                                                   \n",
            "                                                                                                  \n",
            " batch_normalization_119 (Batch  (None, 13, 13, 64)  192         ['conv2d_119[0][0]']             \n",
            " Normalization)                                                                                   \n",
            "                                                                                                  \n",
            " activation_113 (Activation)    (None, 13, 13, 64)   0           ['batch_normalization_113[0][0]']\n",
            "                                                                                                  \n",
            " activation_115 (Activation)    (None, 13, 13, 64)   0           ['batch_normalization_115[0][0]']\n",
            "                                                                                                  \n",
            " activation_118 (Activation)    (None, 13, 13, 96)   0           ['batch_normalization_118[0][0]']\n",
            "                                                                                                  \n",
            " activation_119 (Activation)    (None, 13, 13, 64)   0           ['batch_normalization_119[0][0]']\n",
            "                                                                                                  \n",
            " mixed2 (Concatenate)           (None, 13, 13, 288)  0           ['activation_113[0][0]',         \n",
            "                                                                  'activation_115[0][0]',         \n",
            "                                                                  'activation_118[0][0]',         \n",
            "                                                                  'activation_119[0][0]']         \n",
            "                                                                                                  \n",
            " conv2d_121 (Conv2D)            (None, 13, 13, 64)   18432       ['mixed2[0][0]']                 \n",
            "                                                                                                  \n",
            " batch_normalization_121 (Batch  (None, 13, 13, 64)  192         ['conv2d_121[0][0]']             \n",
            " Normalization)                                                                                   \n",
            "                                                                                                  \n",
            " activation_121 (Activation)    (None, 13, 13, 64)   0           ['batch_normalization_121[0][0]']\n",
            "                                                                                                  \n",
            " conv2d_122 (Conv2D)            (None, 13, 13, 96)   55296       ['activation_121[0][0]']         \n",
            "                                                                                                  \n",
            " batch_normalization_122 (Batch  (None, 13, 13, 96)  288         ['conv2d_122[0][0]']             \n",
            " Normalization)                                                                                   \n",
            "                                                                                                  \n",
            " activation_122 (Activation)    (None, 13, 13, 96)   0           ['batch_normalization_122[0][0]']\n",
            "                                                                                                  \n",
            " conv2d_120 (Conv2D)            (None, 6, 6, 384)    995328      ['mixed2[0][0]']                 \n",
            "                                                                                                  \n",
            " conv2d_123 (Conv2D)            (None, 6, 6, 96)     82944       ['activation_122[0][0]']         \n",
            "                                                                                                  \n",
            " batch_normalization_120 (Batch  (None, 6, 6, 384)   1152        ['conv2d_120[0][0]']             \n",
            " Normalization)                                                                                   \n",
            "                                                                                                  \n",
            " batch_normalization_123 (Batch  (None, 6, 6, 96)    288         ['conv2d_123[0][0]']             \n",
            " Normalization)                                                                                   \n",
            "                                                                                                  \n",
            " activation_120 (Activation)    (None, 6, 6, 384)    0           ['batch_normalization_120[0][0]']\n",
            "                                                                                                  \n",
            " activation_123 (Activation)    (None, 6, 6, 96)     0           ['batch_normalization_123[0][0]']\n",
            "                                                                                                  \n",
            " max_pooling2d_6 (MaxPooling2D)  (None, 6, 6, 288)   0           ['mixed2[0][0]']                 \n",
            "                                                                                                  \n",
            " mixed3 (Concatenate)           (None, 6, 6, 768)    0           ['activation_120[0][0]',         \n",
            "                                                                  'activation_123[0][0]',         \n",
            "                                                                  'max_pooling2d_6[0][0]']        \n",
            "                                                                                                  \n",
            " conv2d_128 (Conv2D)            (None, 6, 6, 128)    98304       ['mixed3[0][0]']                 \n",
            "                                                                                                  \n",
            " batch_normalization_128 (Batch  (None, 6, 6, 128)   384         ['conv2d_128[0][0]']             \n",
            " Normalization)                                                                                   \n",
            "                                                                                                  \n",
            " activation_128 (Activation)    (None, 6, 6, 128)    0           ['batch_normalization_128[0][0]']\n",
            "                                                                                                  \n",
            " conv2d_129 (Conv2D)            (None, 6, 6, 128)    114688      ['activation_128[0][0]']         \n",
            "                                                                                                  \n",
            " batch_normalization_129 (Batch  (None, 6, 6, 128)   384         ['conv2d_129[0][0]']             \n",
            " Normalization)                                                                                   \n",
            "                                                                                                  \n",
            " activation_129 (Activation)    (None, 6, 6, 128)    0           ['batch_normalization_129[0][0]']\n",
            "                                                                                                  \n",
            " conv2d_125 (Conv2D)            (None, 6, 6, 128)    98304       ['mixed3[0][0]']                 \n",
            "                                                                                                  \n",
            " conv2d_130 (Conv2D)            (None, 6, 6, 128)    114688      ['activation_129[0][0]']         \n",
            "                                                                                                  \n",
            " batch_normalization_125 (Batch  (None, 6, 6, 128)   384         ['conv2d_125[0][0]']             \n",
            " Normalization)                                                                                   \n",
            "                                                                                                  \n",
            " batch_normalization_130 (Batch  (None, 6, 6, 128)   384         ['conv2d_130[0][0]']             \n",
            " Normalization)                                                                                   \n",
            "                                                                                                  \n",
            " activation_125 (Activation)    (None, 6, 6, 128)    0           ['batch_normalization_125[0][0]']\n",
            "                                                                                                  \n",
            " activation_130 (Activation)    (None, 6, 6, 128)    0           ['batch_normalization_130[0][0]']\n",
            "                                                                                                  \n",
            " conv2d_126 (Conv2D)            (None, 6, 6, 128)    114688      ['activation_125[0][0]']         \n",
            "                                                                                                  \n",
            " conv2d_131 (Conv2D)            (None, 6, 6, 128)    114688      ['activation_130[0][0]']         \n",
            "                                                                                                  \n",
            " batch_normalization_126 (Batch  (None, 6, 6, 128)   384         ['conv2d_126[0][0]']             \n",
            " Normalization)                                                                                   \n",
            "                                                                                                  \n",
            " batch_normalization_131 (Batch  (None, 6, 6, 128)   384         ['conv2d_131[0][0]']             \n",
            " Normalization)                                                                                   \n",
            "                                                                                                  \n",
            " activation_126 (Activation)    (None, 6, 6, 128)    0           ['batch_normalization_126[0][0]']\n",
            "                                                                                                  \n",
            " activation_131 (Activation)    (None, 6, 6, 128)    0           ['batch_normalization_131[0][0]']\n",
            "                                                                                                  \n",
            " average_pooling2d_12 (AverageP  (None, 6, 6, 768)   0           ['mixed3[0][0]']                 \n",
            " ooling2D)                                                                                        \n",
            "                                                                                                  \n",
            " conv2d_124 (Conv2D)            (None, 6, 6, 192)    147456      ['mixed3[0][0]']                 \n",
            "                                                                                                  \n",
            " conv2d_127 (Conv2D)            (None, 6, 6, 192)    172032      ['activation_126[0][0]']         \n",
            "                                                                                                  \n",
            " conv2d_132 (Conv2D)            (None, 6, 6, 192)    172032      ['activation_131[0][0]']         \n",
            "                                                                                                  \n",
            " conv2d_133 (Conv2D)            (None, 6, 6, 192)    147456      ['average_pooling2d_12[0][0]']   \n",
            "                                                                                                  \n",
            " batch_normalization_124 (Batch  (None, 6, 6, 192)   576         ['conv2d_124[0][0]']             \n",
            " Normalization)                                                                                   \n",
            "                                                                                                  \n",
            " batch_normalization_127 (Batch  (None, 6, 6, 192)   576         ['conv2d_127[0][0]']             \n",
            " Normalization)                                                                                   \n",
            "                                                                                                  \n",
            " batch_normalization_132 (Batch  (None, 6, 6, 192)   576         ['conv2d_132[0][0]']             \n",
            " Normalization)                                                                                   \n",
            "                                                                                                  \n",
            " batch_normalization_133 (Batch  (None, 6, 6, 192)   576         ['conv2d_133[0][0]']             \n",
            " Normalization)                                                                                   \n",
            "                                                                                                  \n",
            " activation_124 (Activation)    (None, 6, 6, 192)    0           ['batch_normalization_124[0][0]']\n",
            "                                                                                                  \n",
            " activation_127 (Activation)    (None, 6, 6, 192)    0           ['batch_normalization_127[0][0]']\n",
            "                                                                                                  \n",
            " activation_132 (Activation)    (None, 6, 6, 192)    0           ['batch_normalization_132[0][0]']\n",
            "                                                                                                  \n",
            " activation_133 (Activation)    (None, 6, 6, 192)    0           ['batch_normalization_133[0][0]']\n",
            "                                                                                                  \n",
            " mixed4 (Concatenate)           (None, 6, 6, 768)    0           ['activation_124[0][0]',         \n",
            "                                                                  'activation_127[0][0]',         \n",
            "                                                                  'activation_132[0][0]',         \n",
            "                                                                  'activation_133[0][0]']         \n",
            "                                                                                                  \n",
            " conv2d_138 (Conv2D)            (None, 6, 6, 160)    122880      ['mixed4[0][0]']                 \n",
            "                                                                                                  \n",
            " batch_normalization_138 (Batch  (None, 6, 6, 160)   480         ['conv2d_138[0][0]']             \n",
            " Normalization)                                                                                   \n",
            "                                                                                                  \n",
            " activation_138 (Activation)    (None, 6, 6, 160)    0           ['batch_normalization_138[0][0]']\n",
            "                                                                                                  \n",
            " conv2d_139 (Conv2D)            (None, 6, 6, 160)    179200      ['activation_138[0][0]']         \n",
            "                                                                                                  \n",
            " batch_normalization_139 (Batch  (None, 6, 6, 160)   480         ['conv2d_139[0][0]']             \n",
            " Normalization)                                                                                   \n",
            "                                                                                                  \n",
            " activation_139 (Activation)    (None, 6, 6, 160)    0           ['batch_normalization_139[0][0]']\n",
            "                                                                                                  \n",
            " conv2d_135 (Conv2D)            (None, 6, 6, 160)    122880      ['mixed4[0][0]']                 \n",
            "                                                                                                  \n",
            " conv2d_140 (Conv2D)            (None, 6, 6, 160)    179200      ['activation_139[0][0]']         \n",
            "                                                                                                  \n",
            " batch_normalization_135 (Batch  (None, 6, 6, 160)   480         ['conv2d_135[0][0]']             \n",
            " Normalization)                                                                                   \n",
            "                                                                                                  \n",
            " batch_normalization_140 (Batch  (None, 6, 6, 160)   480         ['conv2d_140[0][0]']             \n",
            " Normalization)                                                                                   \n",
            "                                                                                                  \n",
            " activation_135 (Activation)    (None, 6, 6, 160)    0           ['batch_normalization_135[0][0]']\n",
            "                                                                                                  \n",
            " activation_140 (Activation)    (None, 6, 6, 160)    0           ['batch_normalization_140[0][0]']\n",
            "                                                                                                  \n",
            " conv2d_136 (Conv2D)            (None, 6, 6, 160)    179200      ['activation_135[0][0]']         \n",
            "                                                                                                  \n",
            " conv2d_141 (Conv2D)            (None, 6, 6, 160)    179200      ['activation_140[0][0]']         \n",
            "                                                                                                  \n",
            " batch_normalization_136 (Batch  (None, 6, 6, 160)   480         ['conv2d_136[0][0]']             \n",
            " Normalization)                                                                                   \n",
            "                                                                                                  \n",
            " batch_normalization_141 (Batch  (None, 6, 6, 160)   480         ['conv2d_141[0][0]']             \n",
            " Normalization)                                                                                   \n",
            "                                                                                                  \n",
            " activation_136 (Activation)    (None, 6, 6, 160)    0           ['batch_normalization_136[0][0]']\n",
            "                                                                                                  \n",
            " activation_141 (Activation)    (None, 6, 6, 160)    0           ['batch_normalization_141[0][0]']\n",
            "                                                                                                  \n",
            " average_pooling2d_13 (AverageP  (None, 6, 6, 768)   0           ['mixed4[0][0]']                 \n",
            " ooling2D)                                                                                        \n",
            "                                                                                                  \n",
            " conv2d_134 (Conv2D)            (None, 6, 6, 192)    147456      ['mixed4[0][0]']                 \n",
            "                                                                                                  \n",
            " conv2d_137 (Conv2D)            (None, 6, 6, 192)    215040      ['activation_136[0][0]']         \n",
            "                                                                                                  \n",
            " conv2d_142 (Conv2D)            (None, 6, 6, 192)    215040      ['activation_141[0][0]']         \n",
            "                                                                                                  \n",
            " conv2d_143 (Conv2D)            (None, 6, 6, 192)    147456      ['average_pooling2d_13[0][0]']   \n",
            "                                                                                                  \n",
            " batch_normalization_134 (Batch  (None, 6, 6, 192)   576         ['conv2d_134[0][0]']             \n",
            " Normalization)                                                                                   \n",
            "                                                                                                  \n",
            " batch_normalization_137 (Batch  (None, 6, 6, 192)   576         ['conv2d_137[0][0]']             \n",
            " Normalization)                                                                                   \n",
            "                                                                                                  \n",
            " batch_normalization_142 (Batch  (None, 6, 6, 192)   576         ['conv2d_142[0][0]']             \n",
            " Normalization)                                                                                   \n",
            "                                                                                                  \n",
            " batch_normalization_143 (Batch  (None, 6, 6, 192)   576         ['conv2d_143[0][0]']             \n",
            " Normalization)                                                                                   \n",
            "                                                                                                  \n",
            " activation_134 (Activation)    (None, 6, 6, 192)    0           ['batch_normalization_134[0][0]']\n",
            "                                                                                                  \n",
            " activation_137 (Activation)    (None, 6, 6, 192)    0           ['batch_normalization_137[0][0]']\n",
            "                                                                                                  \n",
            " activation_142 (Activation)    (None, 6, 6, 192)    0           ['batch_normalization_142[0][0]']\n",
            "                                                                                                  \n",
            " activation_143 (Activation)    (None, 6, 6, 192)    0           ['batch_normalization_143[0][0]']\n",
            "                                                                                                  \n",
            " mixed5 (Concatenate)           (None, 6, 6, 768)    0           ['activation_134[0][0]',         \n",
            "                                                                  'activation_137[0][0]',         \n",
            "                                                                  'activation_142[0][0]',         \n",
            "                                                                  'activation_143[0][0]']         \n",
            "                                                                                                  \n",
            " conv2d_148 (Conv2D)            (None, 6, 6, 160)    122880      ['mixed5[0][0]']                 \n",
            "                                                                                                  \n",
            " batch_normalization_148 (Batch  (None, 6, 6, 160)   480         ['conv2d_148[0][0]']             \n",
            " Normalization)                                                                                   \n",
            "                                                                                                  \n",
            " activation_148 (Activation)    (None, 6, 6, 160)    0           ['batch_normalization_148[0][0]']\n",
            "                                                                                                  \n",
            " conv2d_149 (Conv2D)            (None, 6, 6, 160)    179200      ['activation_148[0][0]']         \n",
            "                                                                                                  \n",
            " batch_normalization_149 (Batch  (None, 6, 6, 160)   480         ['conv2d_149[0][0]']             \n",
            " Normalization)                                                                                   \n",
            "                                                                                                  \n",
            " activation_149 (Activation)    (None, 6, 6, 160)    0           ['batch_normalization_149[0][0]']\n",
            "                                                                                                  \n",
            " conv2d_145 (Conv2D)            (None, 6, 6, 160)    122880      ['mixed5[0][0]']                 \n",
            "                                                                                                  \n",
            " conv2d_150 (Conv2D)            (None, 6, 6, 160)    179200      ['activation_149[0][0]']         \n",
            "                                                                                                  \n",
            " batch_normalization_145 (Batch  (None, 6, 6, 160)   480         ['conv2d_145[0][0]']             \n",
            " Normalization)                                                                                   \n",
            "                                                                                                  \n",
            " batch_normalization_150 (Batch  (None, 6, 6, 160)   480         ['conv2d_150[0][0]']             \n",
            " Normalization)                                                                                   \n",
            "                                                                                                  \n",
            " activation_145 (Activation)    (None, 6, 6, 160)    0           ['batch_normalization_145[0][0]']\n",
            "                                                                                                  \n",
            " activation_150 (Activation)    (None, 6, 6, 160)    0           ['batch_normalization_150[0][0]']\n",
            "                                                                                                  \n",
            " conv2d_146 (Conv2D)            (None, 6, 6, 160)    179200      ['activation_145[0][0]']         \n",
            "                                                                                                  \n",
            " conv2d_151 (Conv2D)            (None, 6, 6, 160)    179200      ['activation_150[0][0]']         \n",
            "                                                                                                  \n",
            " batch_normalization_146 (Batch  (None, 6, 6, 160)   480         ['conv2d_146[0][0]']             \n",
            " Normalization)                                                                                   \n",
            "                                                                                                  \n",
            " batch_normalization_151 (Batch  (None, 6, 6, 160)   480         ['conv2d_151[0][0]']             \n",
            " Normalization)                                                                                   \n",
            "                                                                                                  \n",
            " activation_146 (Activation)    (None, 6, 6, 160)    0           ['batch_normalization_146[0][0]']\n",
            "                                                                                                  \n",
            " activation_151 (Activation)    (None, 6, 6, 160)    0           ['batch_normalization_151[0][0]']\n",
            "                                                                                                  \n",
            " average_pooling2d_14 (AverageP  (None, 6, 6, 768)   0           ['mixed5[0][0]']                 \n",
            " ooling2D)                                                                                        \n",
            "                                                                                                  \n",
            " conv2d_144 (Conv2D)            (None, 6, 6, 192)    147456      ['mixed5[0][0]']                 \n",
            "                                                                                                  \n",
            " conv2d_147 (Conv2D)            (None, 6, 6, 192)    215040      ['activation_146[0][0]']         \n",
            "                                                                                                  \n",
            " conv2d_152 (Conv2D)            (None, 6, 6, 192)    215040      ['activation_151[0][0]']         \n",
            "                                                                                                  \n",
            " conv2d_153 (Conv2D)            (None, 6, 6, 192)    147456      ['average_pooling2d_14[0][0]']   \n",
            "                                                                                                  \n",
            " batch_normalization_144 (Batch  (None, 6, 6, 192)   576         ['conv2d_144[0][0]']             \n",
            " Normalization)                                                                                   \n",
            "                                                                                                  \n",
            " batch_normalization_147 (Batch  (None, 6, 6, 192)   576         ['conv2d_147[0][0]']             \n",
            " Normalization)                                                                                   \n",
            "                                                                                                  \n",
            " batch_normalization_152 (Batch  (None, 6, 6, 192)   576         ['conv2d_152[0][0]']             \n",
            " Normalization)                                                                                   \n",
            "                                                                                                  \n",
            " batch_normalization_153 (Batch  (None, 6, 6, 192)   576         ['conv2d_153[0][0]']             \n",
            " Normalization)                                                                                   \n",
            "                                                                                                  \n",
            " activation_144 (Activation)    (None, 6, 6, 192)    0           ['batch_normalization_144[0][0]']\n",
            "                                                                                                  \n",
            " activation_147 (Activation)    (None, 6, 6, 192)    0           ['batch_normalization_147[0][0]']\n",
            "                                                                                                  \n",
            " activation_152 (Activation)    (None, 6, 6, 192)    0           ['batch_normalization_152[0][0]']\n",
            "                                                                                                  \n",
            " activation_153 (Activation)    (None, 6, 6, 192)    0           ['batch_normalization_153[0][0]']\n",
            "                                                                                                  \n",
            " mixed6 (Concatenate)           (None, 6, 6, 768)    0           ['activation_144[0][0]',         \n",
            "                                                                  'activation_147[0][0]',         \n",
            "                                                                  'activation_152[0][0]',         \n",
            "                                                                  'activation_153[0][0]']         \n",
            "                                                                                                  \n",
            " conv2d_158 (Conv2D)            (None, 6, 6, 192)    147456      ['mixed6[0][0]']                 \n",
            "                                                                                                  \n",
            " batch_normalization_158 (Batch  (None, 6, 6, 192)   576         ['conv2d_158[0][0]']             \n",
            " Normalization)                                                                                   \n",
            "                                                                                                  \n",
            " activation_158 (Activation)    (None, 6, 6, 192)    0           ['batch_normalization_158[0][0]']\n",
            "                                                                                                  \n",
            " conv2d_159 (Conv2D)            (None, 6, 6, 192)    258048      ['activation_158[0][0]']         \n",
            "                                                                                                  \n",
            " batch_normalization_159 (Batch  (None, 6, 6, 192)   576         ['conv2d_159[0][0]']             \n",
            " Normalization)                                                                                   \n",
            "                                                                                                  \n",
            " activation_159 (Activation)    (None, 6, 6, 192)    0           ['batch_normalization_159[0][0]']\n",
            "                                                                                                  \n",
            " conv2d_155 (Conv2D)            (None, 6, 6, 192)    147456      ['mixed6[0][0]']                 \n",
            "                                                                                                  \n",
            " conv2d_160 (Conv2D)            (None, 6, 6, 192)    258048      ['activation_159[0][0]']         \n",
            "                                                                                                  \n",
            " batch_normalization_155 (Batch  (None, 6, 6, 192)   576         ['conv2d_155[0][0]']             \n",
            " Normalization)                                                                                   \n",
            "                                                                                                  \n",
            " batch_normalization_160 (Batch  (None, 6, 6, 192)   576         ['conv2d_160[0][0]']             \n",
            " Normalization)                                                                                   \n",
            "                                                                                                  \n",
            " activation_155 (Activation)    (None, 6, 6, 192)    0           ['batch_normalization_155[0][0]']\n",
            "                                                                                                  \n",
            " activation_160 (Activation)    (None, 6, 6, 192)    0           ['batch_normalization_160[0][0]']\n",
            "                                                                                                  \n",
            " conv2d_156 (Conv2D)            (None, 6, 6, 192)    258048      ['activation_155[0][0]']         \n",
            "                                                                                                  \n",
            " conv2d_161 (Conv2D)            (None, 6, 6, 192)    258048      ['activation_160[0][0]']         \n",
            "                                                                                                  \n",
            " batch_normalization_156 (Batch  (None, 6, 6, 192)   576         ['conv2d_156[0][0]']             \n",
            " Normalization)                                                                                   \n",
            "                                                                                                  \n",
            " batch_normalization_161 (Batch  (None, 6, 6, 192)   576         ['conv2d_161[0][0]']             \n",
            " Normalization)                                                                                   \n",
            "                                                                                                  \n",
            " activation_156 (Activation)    (None, 6, 6, 192)    0           ['batch_normalization_156[0][0]']\n",
            "                                                                                                  \n",
            " activation_161 (Activation)    (None, 6, 6, 192)    0           ['batch_normalization_161[0][0]']\n",
            "                                                                                                  \n",
            " average_pooling2d_15 (AverageP  (None, 6, 6, 768)   0           ['mixed6[0][0]']                 \n",
            " ooling2D)                                                                                        \n",
            "                                                                                                  \n",
            " conv2d_154 (Conv2D)            (None, 6, 6, 192)    147456      ['mixed6[0][0]']                 \n",
            "                                                                                                  \n",
            " conv2d_157 (Conv2D)            (None, 6, 6, 192)    258048      ['activation_156[0][0]']         \n",
            "                                                                                                  \n",
            " conv2d_162 (Conv2D)            (None, 6, 6, 192)    258048      ['activation_161[0][0]']         \n",
            "                                                                                                  \n",
            " conv2d_163 (Conv2D)            (None, 6, 6, 192)    147456      ['average_pooling2d_15[0][0]']   \n",
            "                                                                                                  \n",
            " batch_normalization_154 (Batch  (None, 6, 6, 192)   576         ['conv2d_154[0][0]']             \n",
            " Normalization)                                                                                   \n",
            "                                                                                                  \n",
            " batch_normalization_157 (Batch  (None, 6, 6, 192)   576         ['conv2d_157[0][0]']             \n",
            " Normalization)                                                                                   \n",
            "                                                                                                  \n",
            " batch_normalization_162 (Batch  (None, 6, 6, 192)   576         ['conv2d_162[0][0]']             \n",
            " Normalization)                                                                                   \n",
            "                                                                                                  \n",
            " batch_normalization_163 (Batch  (None, 6, 6, 192)   576         ['conv2d_163[0][0]']             \n",
            " Normalization)                                                                                   \n",
            "                                                                                                  \n",
            " activation_154 (Activation)    (None, 6, 6, 192)    0           ['batch_normalization_154[0][0]']\n",
            "                                                                                                  \n",
            " activation_157 (Activation)    (None, 6, 6, 192)    0           ['batch_normalization_157[0][0]']\n",
            "                                                                                                  \n",
            " activation_162 (Activation)    (None, 6, 6, 192)    0           ['batch_normalization_162[0][0]']\n",
            "                                                                                                  \n",
            " activation_163 (Activation)    (None, 6, 6, 192)    0           ['batch_normalization_163[0][0]']\n",
            "                                                                                                  \n",
            " mixed7 (Concatenate)           (None, 6, 6, 768)    0           ['activation_154[0][0]',         \n",
            "                                                                  'activation_157[0][0]',         \n",
            "                                                                  'activation_162[0][0]',         \n",
            "                                                                  'activation_163[0][0]']         \n",
            "                                                                                                  \n",
            " conv2d_166 (Conv2D)            (None, 6, 6, 192)    147456      ['mixed7[0][0]']                 \n",
            "                                                                                                  \n",
            " batch_normalization_166 (Batch  (None, 6, 6, 192)   576         ['conv2d_166[0][0]']             \n",
            " Normalization)                                                                                   \n",
            "                                                                                                  \n",
            " activation_166 (Activation)    (None, 6, 6, 192)    0           ['batch_normalization_166[0][0]']\n",
            "                                                                                                  \n",
            " conv2d_167 (Conv2D)            (None, 6, 6, 192)    258048      ['activation_166[0][0]']         \n",
            "                                                                                                  \n",
            " batch_normalization_167 (Batch  (None, 6, 6, 192)   576         ['conv2d_167[0][0]']             \n",
            " Normalization)                                                                                   \n",
            "                                                                                                  \n",
            " activation_167 (Activation)    (None, 6, 6, 192)    0           ['batch_normalization_167[0][0]']\n",
            "                                                                                                  \n",
            " conv2d_164 (Conv2D)            (None, 6, 6, 192)    147456      ['mixed7[0][0]']                 \n",
            "                                                                                                  \n",
            " conv2d_168 (Conv2D)            (None, 6, 6, 192)    258048      ['activation_167[0][0]']         \n",
            "                                                                                                  \n",
            " batch_normalization_164 (Batch  (None, 6, 6, 192)   576         ['conv2d_164[0][0]']             \n",
            " Normalization)                                                                                   \n",
            "                                                                                                  \n",
            " batch_normalization_168 (Batch  (None, 6, 6, 192)   576         ['conv2d_168[0][0]']             \n",
            " Normalization)                                                                                   \n",
            "                                                                                                  \n",
            " activation_164 (Activation)    (None, 6, 6, 192)    0           ['batch_normalization_164[0][0]']\n",
            "                                                                                                  \n",
            " activation_168 (Activation)    (None, 6, 6, 192)    0           ['batch_normalization_168[0][0]']\n",
            "                                                                                                  \n",
            " conv2d_165 (Conv2D)            (None, 2, 2, 320)    552960      ['activation_164[0][0]']         \n",
            "                                                                                                  \n",
            " conv2d_169 (Conv2D)            (None, 2, 2, 192)    331776      ['activation_168[0][0]']         \n",
            "                                                                                                  \n",
            " batch_normalization_165 (Batch  (None, 2, 2, 320)   960         ['conv2d_165[0][0]']             \n",
            " Normalization)                                                                                   \n",
            "                                                                                                  \n",
            " batch_normalization_169 (Batch  (None, 2, 2, 192)   576         ['conv2d_169[0][0]']             \n",
            " Normalization)                                                                                   \n",
            "                                                                                                  \n",
            " activation_165 (Activation)    (None, 2, 2, 320)    0           ['batch_normalization_165[0][0]']\n",
            "                                                                                                  \n",
            " activation_169 (Activation)    (None, 2, 2, 192)    0           ['batch_normalization_169[0][0]']\n",
            "                                                                                                  \n",
            " max_pooling2d_7 (MaxPooling2D)  (None, 2, 2, 768)   0           ['mixed7[0][0]']                 \n",
            "                                                                                                  \n",
            " mixed8 (Concatenate)           (None, 2, 2, 1280)   0           ['activation_165[0][0]',         \n",
            "                                                                  'activation_169[0][0]',         \n",
            "                                                                  'max_pooling2d_7[0][0]']        \n",
            "                                                                                                  \n",
            " conv2d_174 (Conv2D)            (None, 2, 2, 448)    573440      ['mixed8[0][0]']                 \n",
            "                                                                                                  \n",
            " batch_normalization_174 (Batch  (None, 2, 2, 448)   1344        ['conv2d_174[0][0]']             \n",
            " Normalization)                                                                                   \n",
            "                                                                                                  \n",
            " activation_174 (Activation)    (None, 2, 2, 448)    0           ['batch_normalization_174[0][0]']\n",
            "                                                                                                  \n",
            " conv2d_171 (Conv2D)            (None, 2, 2, 384)    491520      ['mixed8[0][0]']                 \n",
            "                                                                                                  \n",
            " conv2d_175 (Conv2D)            (None, 2, 2, 384)    1548288     ['activation_174[0][0]']         \n",
            "                                                                                                  \n",
            " batch_normalization_171 (Batch  (None, 2, 2, 384)   1152        ['conv2d_171[0][0]']             \n",
            " Normalization)                                                                                   \n",
            "                                                                                                  \n",
            " batch_normalization_175 (Batch  (None, 2, 2, 384)   1152        ['conv2d_175[0][0]']             \n",
            " Normalization)                                                                                   \n",
            "                                                                                                  \n",
            " activation_171 (Activation)    (None, 2, 2, 384)    0           ['batch_normalization_171[0][0]']\n",
            "                                                                                                  \n",
            " activation_175 (Activation)    (None, 2, 2, 384)    0           ['batch_normalization_175[0][0]']\n",
            "                                                                                                  \n",
            " conv2d_172 (Conv2D)            (None, 2, 2, 384)    442368      ['activation_171[0][0]']         \n",
            "                                                                                                  \n",
            " conv2d_173 (Conv2D)            (None, 2, 2, 384)    442368      ['activation_171[0][0]']         \n",
            "                                                                                                  \n",
            " conv2d_176 (Conv2D)            (None, 2, 2, 384)    442368      ['activation_175[0][0]']         \n",
            "                                                                                                  \n",
            " conv2d_177 (Conv2D)            (None, 2, 2, 384)    442368      ['activation_175[0][0]']         \n",
            "                                                                                                  \n",
            " average_pooling2d_16 (AverageP  (None, 2, 2, 1280)  0           ['mixed8[0][0]']                 \n",
            " ooling2D)                                                                                        \n",
            "                                                                                                  \n",
            " conv2d_170 (Conv2D)            (None, 2, 2, 320)    409600      ['mixed8[0][0]']                 \n",
            "                                                                                                  \n",
            " batch_normalization_172 (Batch  (None, 2, 2, 384)   1152        ['conv2d_172[0][0]']             \n",
            " Normalization)                                                                                   \n",
            "                                                                                                  \n",
            " batch_normalization_173 (Batch  (None, 2, 2, 384)   1152        ['conv2d_173[0][0]']             \n",
            " Normalization)                                                                                   \n",
            "                                                                                                  \n",
            " batch_normalization_176 (Batch  (None, 2, 2, 384)   1152        ['conv2d_176[0][0]']             \n",
            " Normalization)                                                                                   \n",
            "                                                                                                  \n",
            " batch_normalization_177 (Batch  (None, 2, 2, 384)   1152        ['conv2d_177[0][0]']             \n",
            " Normalization)                                                                                   \n",
            "                                                                                                  \n",
            " conv2d_178 (Conv2D)            (None, 2, 2, 192)    245760      ['average_pooling2d_16[0][0]']   \n",
            "                                                                                                  \n",
            " batch_normalization_170 (Batch  (None, 2, 2, 320)   960         ['conv2d_170[0][0]']             \n",
            " Normalization)                                                                                   \n",
            "                                                                                                  \n",
            " activation_172 (Activation)    (None, 2, 2, 384)    0           ['batch_normalization_172[0][0]']\n",
            "                                                                                                  \n",
            " activation_173 (Activation)    (None, 2, 2, 384)    0           ['batch_normalization_173[0][0]']\n",
            "                                                                                                  \n",
            " activation_176 (Activation)    (None, 2, 2, 384)    0           ['batch_normalization_176[0][0]']\n",
            "                                                                                                  \n",
            " activation_177 (Activation)    (None, 2, 2, 384)    0           ['batch_normalization_177[0][0]']\n",
            "                                                                                                  \n",
            " batch_normalization_178 (Batch  (None, 2, 2, 192)   576         ['conv2d_178[0][0]']             \n",
            " Normalization)                                                                                   \n",
            "                                                                                                  \n",
            " activation_170 (Activation)    (None, 2, 2, 320)    0           ['batch_normalization_170[0][0]']\n",
            "                                                                                                  \n",
            " mixed9_0 (Concatenate)         (None, 2, 2, 768)    0           ['activation_172[0][0]',         \n",
            "                                                                  'activation_173[0][0]']         \n",
            "                                                                                                  \n",
            " concatenate_2 (Concatenate)    (None, 2, 2, 768)    0           ['activation_176[0][0]',         \n",
            "                                                                  'activation_177[0][0]']         \n",
            "                                                                                                  \n",
            " activation_178 (Activation)    (None, 2, 2, 192)    0           ['batch_normalization_178[0][0]']\n",
            "                                                                                                  \n",
            " mixed9 (Concatenate)           (None, 2, 2, 2048)   0           ['activation_170[0][0]',         \n",
            "                                                                  'mixed9_0[0][0]',               \n",
            "                                                                  'concatenate_2[0][0]',          \n",
            "                                                                  'activation_178[0][0]']         \n",
            "                                                                                                  \n",
            " conv2d_183 (Conv2D)            (None, 2, 2, 448)    917504      ['mixed9[0][0]']                 \n",
            "                                                                                                  \n",
            " batch_normalization_183 (Batch  (None, 2, 2, 448)   1344        ['conv2d_183[0][0]']             \n",
            " Normalization)                                                                                   \n",
            "                                                                                                  \n",
            " activation_183 (Activation)    (None, 2, 2, 448)    0           ['batch_normalization_183[0][0]']\n",
            "                                                                                                  \n",
            " conv2d_180 (Conv2D)            (None, 2, 2, 384)    786432      ['mixed9[0][0]']                 \n",
            "                                                                                                  \n",
            " conv2d_184 (Conv2D)            (None, 2, 2, 384)    1548288     ['activation_183[0][0]']         \n",
            "                                                                                                  \n",
            " batch_normalization_180 (Batch  (None, 2, 2, 384)   1152        ['conv2d_180[0][0]']             \n",
            " Normalization)                                                                                   \n",
            "                                                                                                  \n",
            " batch_normalization_184 (Batch  (None, 2, 2, 384)   1152        ['conv2d_184[0][0]']             \n",
            " Normalization)                                                                                   \n",
            "                                                                                                  \n",
            " activation_180 (Activation)    (None, 2, 2, 384)    0           ['batch_normalization_180[0][0]']\n",
            "                                                                                                  \n",
            " activation_184 (Activation)    (None, 2, 2, 384)    0           ['batch_normalization_184[0][0]']\n",
            "                                                                                                  \n",
            " conv2d_181 (Conv2D)            (None, 2, 2, 384)    442368      ['activation_180[0][0]']         \n",
            "                                                                                                  \n",
            " conv2d_182 (Conv2D)            (None, 2, 2, 384)    442368      ['activation_180[0][0]']         \n",
            "                                                                                                  \n",
            " conv2d_185 (Conv2D)            (None, 2, 2, 384)    442368      ['activation_184[0][0]']         \n",
            "                                                                                                  \n",
            " conv2d_186 (Conv2D)            (None, 2, 2, 384)    442368      ['activation_184[0][0]']         \n",
            "                                                                                                  \n",
            " average_pooling2d_17 (AverageP  (None, 2, 2, 2048)  0           ['mixed9[0][0]']                 \n",
            " ooling2D)                                                                                        \n",
            "                                                                                                  \n",
            " conv2d_179 (Conv2D)            (None, 2, 2, 320)    655360      ['mixed9[0][0]']                 \n",
            "                                                                                                  \n",
            " batch_normalization_181 (Batch  (None, 2, 2, 384)   1152        ['conv2d_181[0][0]']             \n",
            " Normalization)                                                                                   \n",
            "                                                                                                  \n",
            " batch_normalization_182 (Batch  (None, 2, 2, 384)   1152        ['conv2d_182[0][0]']             \n",
            " Normalization)                                                                                   \n",
            "                                                                                                  \n",
            " batch_normalization_185 (Batch  (None, 2, 2, 384)   1152        ['conv2d_185[0][0]']             \n",
            " Normalization)                                                                                   \n",
            "                                                                                                  \n",
            " batch_normalization_186 (Batch  (None, 2, 2, 384)   1152        ['conv2d_186[0][0]']             \n",
            " Normalization)                                                                                   \n",
            "                                                                                                  \n",
            " conv2d_187 (Conv2D)            (None, 2, 2, 192)    393216      ['average_pooling2d_17[0][0]']   \n",
            "                                                                                                  \n",
            " batch_normalization_179 (Batch  (None, 2, 2, 320)   960         ['conv2d_179[0][0]']             \n",
            " Normalization)                                                                                   \n",
            "                                                                                                  \n",
            " activation_181 (Activation)    (None, 2, 2, 384)    0           ['batch_normalization_181[0][0]']\n",
            "                                                                                                  \n",
            " activation_182 (Activation)    (None, 2, 2, 384)    0           ['batch_normalization_182[0][0]']\n",
            "                                                                                                  \n",
            " activation_185 (Activation)    (None, 2, 2, 384)    0           ['batch_normalization_185[0][0]']\n",
            "                                                                                                  \n",
            " activation_186 (Activation)    (None, 2, 2, 384)    0           ['batch_normalization_186[0][0]']\n",
            "                                                                                                  \n",
            " batch_normalization_187 (Batch  (None, 2, 2, 192)   576         ['conv2d_187[0][0]']             \n",
            " Normalization)                                                                                   \n",
            "                                                                                                  \n",
            " activation_179 (Activation)    (None, 2, 2, 320)    0           ['batch_normalization_179[0][0]']\n",
            "                                                                                                  \n",
            " mixed9_1 (Concatenate)         (None, 2, 2, 768)    0           ['activation_181[0][0]',         \n",
            "                                                                  'activation_182[0][0]']         \n",
            "                                                                                                  \n",
            " concatenate_3 (Concatenate)    (None, 2, 2, 768)    0           ['activation_185[0][0]',         \n",
            "                                                                  'activation_186[0][0]']         \n",
            "                                                                                                  \n",
            " activation_187 (Activation)    (None, 2, 2, 192)    0           ['batch_normalization_187[0][0]']\n",
            "                                                                                                  \n",
            " mixed10 (Concatenate)          (None, 2, 2, 2048)   0           ['activation_179[0][0]',         \n",
            "                                                                  'mixed9_1[0][0]',               \n",
            "                                                                  'concatenate_3[0][0]',          \n",
            "                                                                  'activation_187[0][0]']         \n",
            "                                                                                                  \n",
            " flatten_4 (Flatten)            (None, 8192)         0           ['mixed10[0][0]']                \n",
            "                                                                                                  \n",
            " dense_7 (Dense)                (None, 1)            8193        ['flatten_4[0][0]']              \n",
            "                                                                                                  \n",
            "==================================================================================================\n",
            "Total params: 21,810,977\n",
            "Trainable params: 8,193\n",
            "Non-trainable params: 21,802,784\n",
            "__________________________________________________________________________________________________\n"
          ]
        }
      ]
    },
    {
      "cell_type": "code",
      "source": [
        "# Fit model\n",
        "history_dense = model.fit(train_gen,\n",
        "                          epochs=30, \n",
        "                          batch_size=6,\n",
        "                          validation_data = val_gen)\n",
        "model.save('inception_model.h5')"
      ],
      "metadata": {
        "colab": {
          "base_uri": "https://localhost:8080/"
        },
        "outputId": "96857d55-dbcc-405b-ca2a-730cad928256",
        "id": "X36L9wBhq5WT"
      },
      "execution_count": 35,
      "outputs": [
        {
          "output_type": "stream",
          "name": "stdout",
          "text": [
            "Epoch 1/30\n",
            "37/37 [==============================] - 62s 2s/step - loss: 1.1292 - accuracy: 0.6184 - val_loss: 0.9874 - val_accuracy: 0.6870\n",
            "Epoch 2/30\n",
            "37/37 [==============================] - 54s 1s/step - loss: 0.5199 - accuracy: 0.7845 - val_loss: 0.4749 - val_accuracy: 0.7939\n",
            "Epoch 3/30\n",
            "37/37 [==============================] - 53s 1s/step - loss: 0.3630 - accuracy: 0.8390 - val_loss: 0.4588 - val_accuracy: 0.7863\n",
            "Epoch 4/30\n",
            "37/37 [==============================] - 53s 1s/step - loss: 0.2701 - accuracy: 0.8782 - val_loss: 0.3857 - val_accuracy: 0.8397\n",
            "Epoch 5/30\n",
            "37/37 [==============================] - 53s 1s/step - loss: 0.2426 - accuracy: 0.8876 - val_loss: 0.3660 - val_accuracy: 0.8702\n",
            "Epoch 6/30\n",
            "37/37 [==============================] - 53s 1s/step - loss: 0.2150 - accuracy: 0.9080 - val_loss: 0.3709 - val_accuracy: 0.8702\n",
            "Epoch 7/30\n",
            "37/37 [==============================] - 53s 1s/step - loss: 0.2131 - accuracy: 0.9063 - val_loss: 0.3495 - val_accuracy: 0.8397\n",
            "Epoch 8/30\n",
            "37/37 [==============================] - 54s 1s/step - loss: 0.1813 - accuracy: 0.9191 - val_loss: 0.3712 - val_accuracy: 0.8473\n",
            "Epoch 9/30\n",
            "37/37 [==============================] - 53s 1s/step - loss: 0.1768 - accuracy: 0.9276 - val_loss: 0.3864 - val_accuracy: 0.8550\n",
            "Epoch 10/30\n",
            "37/37 [==============================] - 53s 1s/step - loss: 0.1689 - accuracy: 0.9276 - val_loss: 0.3563 - val_accuracy: 0.8626\n",
            "Epoch 11/30\n",
            "37/37 [==============================] - 54s 1s/step - loss: 0.1645 - accuracy: 0.9225 - val_loss: 0.3990 - val_accuracy: 0.8473\n",
            "Epoch 12/30\n",
            "37/37 [==============================] - 54s 1s/step - loss: 0.1646 - accuracy: 0.9293 - val_loss: 0.3679 - val_accuracy: 0.8702\n",
            "Epoch 13/30\n",
            "37/37 [==============================] - 53s 1s/step - loss: 0.1690 - accuracy: 0.9267 - val_loss: 0.5097 - val_accuracy: 0.8473\n",
            "Epoch 14/30\n",
            "37/37 [==============================] - 53s 1s/step - loss: 0.1667 - accuracy: 0.9404 - val_loss: 0.3800 - val_accuracy: 0.8550\n",
            "Epoch 15/30\n",
            "37/37 [==============================] - 53s 1s/step - loss: 0.1610 - accuracy: 0.9276 - val_loss: 0.3993 - val_accuracy: 0.8473\n",
            "Epoch 16/30\n",
            "37/37 [==============================] - 53s 1s/step - loss: 0.1724 - accuracy: 0.9361 - val_loss: 0.5037 - val_accuracy: 0.8550\n",
            "Epoch 17/30\n",
            "37/37 [==============================] - 53s 1s/step - loss: 0.1518 - accuracy: 0.9327 - val_loss: 0.3560 - val_accuracy: 0.8702\n",
            "Epoch 18/30\n",
            "37/37 [==============================] - 52s 1s/step - loss: 0.1707 - accuracy: 0.9250 - val_loss: 0.5417 - val_accuracy: 0.8397\n",
            "Epoch 19/30\n",
            "37/37 [==============================] - 53s 1s/step - loss: 0.2224 - accuracy: 0.9157 - val_loss: 0.3718 - val_accuracy: 0.8626\n",
            "Epoch 20/30\n",
            "37/37 [==============================] - 52s 1s/step - loss: 0.1734 - accuracy: 0.9293 - val_loss: 0.4281 - val_accuracy: 0.8626\n",
            "Epoch 21/30\n",
            "37/37 [==============================] - 52s 1s/step - loss: 0.1709 - accuracy: 0.9378 - val_loss: 0.4200 - val_accuracy: 0.8550\n",
            "Epoch 22/30\n",
            "37/37 [==============================] - 53s 1s/step - loss: 0.1618 - accuracy: 0.9336 - val_loss: 0.4393 - val_accuracy: 0.8626\n",
            "Epoch 23/30\n",
            "37/37 [==============================] - 52s 1s/step - loss: 0.1502 - accuracy: 0.9310 - val_loss: 0.4304 - val_accuracy: 0.8550\n",
            "Epoch 24/30\n",
            "37/37 [==============================] - 52s 1s/step - loss: 0.1567 - accuracy: 0.9404 - val_loss: 0.4813 - val_accuracy: 0.8397\n",
            "Epoch 25/30\n",
            "37/37 [==============================] - 52s 1s/step - loss: 0.1789 - accuracy: 0.9302 - val_loss: 0.4474 - val_accuracy: 0.8702\n",
            "Epoch 26/30\n",
            "37/37 [==============================] - 52s 1s/step - loss: 0.1750 - accuracy: 0.9259 - val_loss: 0.4750 - val_accuracy: 0.8473\n",
            "Epoch 27/30\n",
            "37/37 [==============================] - 52s 1s/step - loss: 0.1397 - accuracy: 0.9395 - val_loss: 0.5519 - val_accuracy: 0.8550\n",
            "Epoch 28/30\n",
            "37/37 [==============================] - 52s 1s/step - loss: 0.1463 - accuracy: 0.9387 - val_loss: 0.4598 - val_accuracy: 0.8626\n",
            "Epoch 29/30\n",
            "37/37 [==============================] - 53s 1s/step - loss: 0.1629 - accuracy: 0.9310 - val_loss: 0.4419 - val_accuracy: 0.8855\n",
            "Epoch 30/30\n",
            "37/37 [==============================] - 53s 1s/step - loss: 0.1502 - accuracy: 0.9361 - val_loss: 0.4199 - val_accuracy: 0.8702\n"
          ]
        }
      ]
    },
    {
      "cell_type": "code",
      "source": [
        "# Plot history\n",
        "import matplotlib.pyplot as plt\n",
        "plt.plot(history_dense.history['accuracy'], color='b', label='Training Accuracy')\n",
        "plt.plot(history_dense.history['val_accuracy'], color='g', label='Validation Accuracy')\n",
        "plt.title('Training and validation Accuracy')\n",
        "plt.legend()\n",
        "plt.show()"
      ],
      "metadata": {
        "colab": {
          "base_uri": "https://localhost:8080/",
          "height": 281
        },
        "outputId": "738157f6-3572-47d7-826a-a5597dbeeaa3",
        "id": "nDPinqmjq5WT"
      },
      "execution_count": 36,
      "outputs": [
        {
          "output_type": "display_data",
          "data": {
            "text/plain": [
              "<Figure size 432x288 with 1 Axes>"
            ],
            "image/png": "[encoded data removed]"
          },
          "metadata": {
            "needs_background": "light"
          }
        }
      ]
    },
    {
      "cell_type": "code",
      "source": [
        "#plot accuracy\n",
        "import matplotlib.pyplot as plt\n",
        "plt.plot(history_dense.history['loss'], color='b', label='Training loss')\n",
        "plt.plot(history_dense.history['val_loss'], color='g', label='Validation loss')\n",
        "plt.title('Training and validation Loss')\n",
        "plt.legend()\n",
        "plt.show()"
      ],
      "metadata": {
        "colab": {
          "base_uri": "https://localhost:8080/",
          "height": 281
        },
        "outputId": "188182d6-36d8-47f6-a216-bcdcecf34b10",
        "id": "BMmM6MYyq5WT"
      },
      "execution_count": 37,
      "outputs": [
        {
          "output_type": "display_data",
          "data": {
            "text/plain": [
              "<Figure size 432x288 with 1 Axes>"
            ],
            "image/png": "[encoded data removed]"
          },
          "metadata": {
            "needs_background": "light"
          }
        }
      ]
    },
    {
      "cell_type": "code",
      "source": [
        "#evaluate the accuracy based on test set\n",
        "model.evaluate(test_gen)"
      ],
      "metadata": {
        "colab": {
          "base_uri": "https://localhost:8080/"
        },
        "outputId": "2f842996-8879-451a-822c-6075b4b024ff",
        "id": "Vj_dYwSOq5WU"
      },
      "execution_count": 38,
      "outputs": [
        {
          "output_type": "stream",
          "name": "stdout",
          "text": [
            "5/5 [==============================] - 6s 1s/step - loss: 0.6485 - accuracy: 0.8493\n"
          ]
        },
        {
          "output_type": "execute_result",
          "data": {
            "text/plain": [
              "[0.6485176086425781, 0.8493150472640991]"
            ]
          },
          "metadata": {},
          "execution_count": 38
        }
      ]
    },
    {
      "cell_type": "code",
      "source": [
        ""
      ],
      "metadata": {
        "id": "wgfgtCn-q16m"
      },
      "execution_count": null,
      "outputs": []
    },
    {
      "cell_type": "code",
      "source": [
        ""
      ],
      "metadata": {
        "id": "H0kzk3tfguL3"
      },
      "execution_count": null,
      "outputs": []
    },
    {
      "cell_type": "code",
      "source": [
        ""
      ],
      "metadata": {
        "id": "7DyeILdc8K6F"
      },
      "execution_count": null,
      "outputs": []
    }
  ]
}